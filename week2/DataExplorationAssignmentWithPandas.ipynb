{
 "cells": [
  {
   "cell_type": "code",
   "execution_count": 1,
   "metadata": {
    "collapsed": false
   },
   "outputs": [
    {
     "name": "stderr",
     "output_type": "stream",
     "text": [
      "/home/indix/anaconda2/lib/python2.7/site-packages/matplotlib/font_manager.py:273: UserWarning: Matplotlib is building the font cache using fc-list. This may take a moment.\n",
      "  warnings.warn('Matplotlib is building the font cache using fc-list. This may take a moment.')\n"
     ]
    }
   ],
   "source": [
    "import pandas as pd\n",
    "import numpy as np\n",
    "%matplotlib inline\n",
    "from matplotlib import pyplot as plt\n",
    "import matplotlib\n",
    "plt.rcParams['figure.figsize'] = (15,10)"
   ]
  },
  {
   "cell_type": "markdown",
   "metadata": {},
   "source": [
    "# Reading the data\n",
    "Lets read some of Indix's spot checked data using pandas. The data will have different fields of a product and each field will have a corresponding spot checked field with *_status* appending to its name."
   ]
  },
  {
   "cell_type": "code",
   "execution_count": 2,
   "metadata": {
    "collapsed": false
   },
   "outputs": [
    {
     "name": "stderr",
     "output_type": "stream",
     "text": [
      "/home/indix/anaconda2/lib/python2.7/site-packages/IPython/core/interactiveshell.py:2723: DtypeWarning: Columns (22,49,50,52,53,54,55,56,57,58,60,61,62,63,64,65,66,68,69,70,72,73,74,76,77,78,79,80,81,82,83,84) have mixed types. Specify dtype option on import or set low_memory=False.\n",
      "  interactivity=interactivity, compiler=compiler, result=result)\n"
     ]
    }
   ],
   "source": [
    "spot_check_data = pd.read_csv(\"spot_check_data.csv.bz2\")"
   ]
  },
  {
   "cell_type": "markdown",
   "metadata": {},
   "source": [
    "# How many words are present in each title? \n",
    "Also analyse the distribution of number of words in title."
   ]
  },
  {
   "cell_type": "code",
   "execution_count": 3,
   "metadata": {
    "collapsed": false
   },
   "outputs": [
    {
     "data": {
      "text/plain": [
       "Index([u'Unnamed: 0', u'id', u'job_id', u't_created', u't_info', u'tr_created',\n",
       "       u'tr_info', u'start_time', u'finish_time', u'additionalAttributes',\n",
       "       u'availability', u'brandName', u'brandText', u'breadCrumbs',\n",
       "       u'categoryNamePath', u'currency', u'description', u'imageUrl',\n",
       "       u'listPrice', u'mpns', u'productUrl', u'salePrice', u'seller', u'sku',\n",
       "       u'storeId', u'storeName', u'title', u'upcs', u'url',\n",
       "       u'variantAttributes', u'WrongURL', u'additionalAttributes_status',\n",
       "       u'availability_status', u'brandName_status', u'brandText_status',\n",
       "       u'breadCrumbs_status', u'categoryNamePath_status', u'comments',\n",
       "       u'currency_status', u'description_status', u'imageUrl_status',\n",
       "       u'listPrice_status', u'mpns_status', u'salePrice_status', u'sku_status',\n",
       "       u'title_status', u'upcs_status', u'variantAttributes_status',\n",
       "       u'variantCOLOR_status', u'variantColoe_status',\n",
       "       u'variantColorCode_status', u'variantColor_status',\n",
       "       u'variantConditionTypeText_status', u'variantCondition_status',\n",
       "       u'variantDescription_status', u'variantEyeGliderShade_status',\n",
       "       u'variantFinish_status', u'variantFit_status', u'variantGasType_status',\n",
       "       u'variantInseam_status', u'variantLENGTH_status',\n",
       "       u'variantLength_status', u'variantMakeModel_status',\n",
       "       u'variantModel_status', u'variantNull_status',\n",
       "       u'variantProductColor_status', u'variantQuantity_status',\n",
       "       u'variantSIZE_status', u'variantShade_status',\n",
       "       u'variantSizeType_status', u'variantSize_range_status',\n",
       "       u'variantSize_status', u'variantSkinType_status', u'variantSku_status',\n",
       "       u'variantStyle_status', u'variantType_status',\n",
       "       u'variantVariant_name_status', u'variantVariant_status',\n",
       "       u'variantVariants_status', u'variantWAIST_status',\n",
       "       u'variantWIDTH_status', u'variantWaist_status', u'variantWeight_status',\n",
       "       u'variantWhite_status', u'variantWidth_status'],\n",
       "      dtype='object')"
      ]
     },
     "execution_count": 3,
     "metadata": {},
     "output_type": "execute_result"
    }
   ],
   "source": [
    "# lets see all the columns available first.\n",
    "spot_check_data.columns"
   ]
  },
  {
   "cell_type": "code",
   "execution_count": 4,
   "metadata": {
    "collapsed": false
   },
   "outputs": [
    {
     "data": {
      "text/plain": [
       "Index([u'title'], dtype='object')"
      ]
     },
     "execution_count": 4,
     "metadata": {},
     "output_type": "execute_result"
    }
   ],
   "source": [
    "# The column we need for this question is 'title'. So, let's set take that out and peek into it.\n",
    "# I am intending to modify the data and add few columns etc. \n",
    "# So, I am copying instead of just setting 'titles' to the view of 'title' column.\n",
    "titles = spot_check_data[['title']].copy()\n",
    "titles.columns"
   ]
  },
  {
   "cell_type": "code",
   "execution_count": 5,
   "metadata": {
    "collapsed": false
   },
   "outputs": [
    {
     "data": {
      "text/html": [
       "<div>\n",
       "<table border=\"1\" class=\"dataframe\">\n",
       "  <thead>\n",
       "    <tr style=\"text-align: right;\">\n",
       "      <th></th>\n",
       "      <th>title</th>\n",
       "    </tr>\n",
       "  </thead>\n",
       "  <tbody>\n",
       "    <tr>\n",
       "      <th>count</th>\n",
       "      <td>8481</td>\n",
       "    </tr>\n",
       "    <tr>\n",
       "      <th>unique</th>\n",
       "      <td>5226</td>\n",
       "    </tr>\n",
       "    <tr>\n",
       "      <th>top</th>\n",
       "      <td>Bowflex® Machine Mats</td>\n",
       "    </tr>\n",
       "    <tr>\n",
       "      <th>freq</th>\n",
       "      <td>42</td>\n",
       "    </tr>\n",
       "  </tbody>\n",
       "</table>\n",
       "</div>"
      ],
      "text/plain": [
       "                        title\n",
       "count                    8481\n",
       "unique                   5226\n",
       "top     Bowflex® Machine Mats\n",
       "freq                       42"
      ]
     },
     "execution_count": 5,
     "metadata": {},
     "output_type": "execute_result"
    }
   ],
   "source": [
    "titles.describe()"
   ]
  },
  {
   "cell_type": "code",
   "execution_count": 6,
   "metadata": {
    "collapsed": false
   },
   "outputs": [
    {
     "data": {
      "text/html": [
       "<div>\n",
       "<table border=\"1\" class=\"dataframe\">\n",
       "  <thead>\n",
       "    <tr style=\"text-align: right;\">\n",
       "      <th></th>\n",
       "      <th>title</th>\n",
       "    </tr>\n",
       "  </thead>\n",
       "  <tbody>\n",
       "    <tr>\n",
       "      <th>count</th>\n",
       "      <td>8481</td>\n",
       "    </tr>\n",
       "    <tr>\n",
       "      <th>unique</th>\n",
       "      <td>5226</td>\n",
       "    </tr>\n",
       "    <tr>\n",
       "      <th>top</th>\n",
       "      <td>Bowflex® Machine Mats</td>\n",
       "    </tr>\n",
       "    <tr>\n",
       "      <th>freq</th>\n",
       "      <td>42</td>\n",
       "    </tr>\n",
       "  </tbody>\n",
       "</table>\n",
       "</div>"
      ],
      "text/plain": [
       "                        title\n",
       "count                    8481\n",
       "unique                   5226\n",
       "top     Bowflex® Machine Mats\n",
       "freq                       42"
      ]
     },
     "execution_count": 6,
     "metadata": {},
     "output_type": "execute_result"
    }
   ],
   "source": [
    "titles.dropna().describe()"
   ]
  },
  {
   "cell_type": "code",
   "execution_count": 7,
   "metadata": {
    "collapsed": false
   },
   "outputs": [
    {
     "data": {
      "text/plain": [
       "['Nike',\n",
       " 'NFL',\n",
       " 'Dri-Fit',\n",
       " 'Fly',\n",
       " 'XL',\n",
       " '3.0',\n",
       " 'Shorts',\n",
       " '-',\n",
       " \"Men's\",\n",
       " 'New',\n",
       " 'England',\n",
       " 'Patriots']"
      ]
     },
     "execution_count": 7,
     "metadata": {},
     "output_type": "execute_result"
    }
   ],
   "source": [
    "# We can use split() function to get the number of words in the title. The split() function will split by space\n",
    "# and filter the empty strings.\n",
    "\n",
    "titles.iloc[0, 0].split()"
   ]
  },
  {
   "cell_type": "code",
   "execution_count": 8,
   "metadata": {
    "collapsed": false
   },
   "outputs": [
    {
     "data": {
      "text/html": [
       "<div>\n",
       "<table border=\"1\" class=\"dataframe\">\n",
       "  <thead>\n",
       "    <tr style=\"text-align: right;\">\n",
       "      <th></th>\n",
       "      <th>word_count</th>\n",
       "    </tr>\n",
       "  </thead>\n",
       "  <tbody>\n",
       "    <tr>\n",
       "      <th>count</th>\n",
       "      <td>8481.000000</td>\n",
       "    </tr>\n",
       "    <tr>\n",
       "      <th>mean</th>\n",
       "      <td>7.123217</td>\n",
       "    </tr>\n",
       "    <tr>\n",
       "      <th>std</th>\n",
       "      <td>5.217783</td>\n",
       "    </tr>\n",
       "    <tr>\n",
       "      <th>min</th>\n",
       "      <td>1.000000</td>\n",
       "    </tr>\n",
       "    <tr>\n",
       "      <th>25%</th>\n",
       "      <td>4.000000</td>\n",
       "    </tr>\n",
       "    <tr>\n",
       "      <th>50%</th>\n",
       "      <td>6.000000</td>\n",
       "    </tr>\n",
       "    <tr>\n",
       "      <th>75%</th>\n",
       "      <td>9.000000</td>\n",
       "    </tr>\n",
       "    <tr>\n",
       "      <th>max</th>\n",
       "      <td>186.000000</td>\n",
       "    </tr>\n",
       "  </tbody>\n",
       "</table>\n",
       "</div>"
      ],
      "text/plain": [
       "        word_count\n",
       "count  8481.000000\n",
       "mean      7.123217\n",
       "std       5.217783\n",
       "min       1.000000\n",
       "25%       4.000000\n",
       "50%       6.000000\n",
       "75%       9.000000\n",
       "max     186.000000"
      ]
     },
     "execution_count": 8,
     "metadata": {},
     "output_type": "execute_result"
    }
   ],
   "source": [
    "# now to do the above on all the rows, we can use apply function along with a lambda fn.\n",
    "titles['word_count'] = titles['title'].apply(lambda title : len(title.split()))\n",
    "titles.describe()"
   ]
  },
  {
   "cell_type": "code",
   "execution_count": 9,
   "metadata": {
    "collapsed": false
   },
   "outputs": [
    {
     "data": {
      "text/plain": [
       "<matplotlib.axes._subplots.AxesSubplot at 0x7fcc37bfe450>"
      ]
     },
     "execution_count": 9,
     "metadata": {},
     "output_type": "execute_result"
    },
    {
     "data": {
      "image/png": "[encoded data removed]",
      "text/plain": [
       "<matplotlib.figure.Figure at 0x7fcc60185410>"
      ]
     },
     "metadata": {},
     "output_type": "display_data"
    }
   ],
   "source": [
    "titles.plot()"
   ]
  },
  {
   "cell_type": "code",
   "execution_count": 10,
   "metadata": {
    "collapsed": false
   },
   "outputs": [
    {
     "data": {
      "text/plain": [
       "<matplotlib.axes._subplots.AxesSubplot at 0x7fcc379c0990>"
      ]
     },
     "execution_count": 10,
     "metadata": {},
     "output_type": "execute_result"
    },
    {
     "data": {
      "image/png": "[encoded data removed]",
      "text/plain": [
       "<matplotlib.figure.Figure at 0x7fcc380b70d0>"
      ]
     },
     "metadata": {},
     "output_type": "display_data"
    }
   ],
   "source": [
    "titles.plot.box()"
   ]
  },
  {
   "cell_type": "markdown",
   "metadata": {},
   "source": [
    "# How many words are present in breadcrumbs? \n",
    "Analyse the distribution of number of words in breadcrumbs."
   ]
  },
  {
   "cell_type": "code",
   "execution_count": 11,
   "metadata": {
    "collapsed": false
   },
   "outputs": [
    {
     "data": {
      "text/plain": [
       "Index([u'breadCrumbs'], dtype='object')"
      ]
     },
     "execution_count": 11,
     "metadata": {},
     "output_type": "execute_result"
    }
   ],
   "source": [
    "breadcrumbs = spot_check_data[['breadCrumbs']].copy()\n",
    "breadcrumbs.columns"
   ]
  },
  {
   "cell_type": "code",
   "execution_count": 12,
   "metadata": {
    "collapsed": false
   },
   "outputs": [],
   "source": [
    "breadcrumbs = breadcrumbs.fillna('')"
   ]
  },
  {
   "cell_type": "code",
   "execution_count": 13,
   "metadata": {
    "collapsed": false
   },
   "outputs": [
    {
     "data": {
      "text/html": [
       "<div>\n",
       "<table border=\"1\" class=\"dataframe\">\n",
       "  <thead>\n",
       "    <tr style=\"text-align: right;\">\n",
       "      <th></th>\n",
       "      <th>breadCrumbs</th>\n",
       "    </tr>\n",
       "  </thead>\n",
       "  <tbody>\n",
       "    <tr>\n",
       "      <th>0</th>\n",
       "      <td></td>\n",
       "    </tr>\n",
       "    <tr>\n",
       "      <th>1</th>\n",
       "      <td></td>\n",
       "    </tr>\n",
       "    <tr>\n",
       "      <th>2</th>\n",
       "      <td></td>\n",
       "    </tr>\n",
       "    <tr>\n",
       "      <th>3</th>\n",
       "      <td></td>\n",
       "    </tr>\n",
       "    <tr>\n",
       "      <th>4</th>\n",
       "      <td>Home &gt; Ladies Gifts &gt; Mugs, Water Bottles &amp; Mo...</td>\n",
       "    </tr>\n",
       "  </tbody>\n",
       "</table>\n",
       "</div>"
      ],
      "text/plain": [
       "                                         breadCrumbs\n",
       "0                                                   \n",
       "1                                                   \n",
       "2                                                   \n",
       "3                                                   \n",
       "4  Home > Ladies Gifts > Mugs, Water Bottles & Mo..."
      ]
     },
     "execution_count": 13,
     "metadata": {},
     "output_type": "execute_result"
    }
   ],
   "source": [
    "breadcrumbs.head()"
   ]
  },
  {
   "cell_type": "code",
   "execution_count": 14,
   "metadata": {
    "collapsed": false,
    "scrolled": false
   },
   "outputs": [],
   "source": [
    "# lets get the word count now. Unlike titles, we should also filter '>' here.\n",
    "breadcrumbs['word_count'] = breadcrumbs['breadCrumbs'].apply(lambda breadcrumb : len([elem for elem in breadcrumb.split() if elem != '>']))"
   ]
  },
  {
   "cell_type": "code",
   "execution_count": 15,
   "metadata": {
    "collapsed": false
   },
   "outputs": [
    {
     "data": {
      "text/html": [
       "<div>\n",
       "<table border=\"1\" class=\"dataframe\">\n",
       "  <thead>\n",
       "    <tr style=\"text-align: right;\">\n",
       "      <th></th>\n",
       "      <th>breadCrumbs</th>\n",
       "      <th>word_count</th>\n",
       "    </tr>\n",
       "  </thead>\n",
       "  <tbody>\n",
       "    <tr>\n",
       "      <th>0</th>\n",
       "      <td></td>\n",
       "      <td>0</td>\n",
       "    </tr>\n",
       "    <tr>\n",
       "      <th>1</th>\n",
       "      <td></td>\n",
       "      <td>0</td>\n",
       "    </tr>\n",
       "    <tr>\n",
       "      <th>2</th>\n",
       "      <td></td>\n",
       "      <td>0</td>\n",
       "    </tr>\n",
       "    <tr>\n",
       "      <th>3</th>\n",
       "      <td></td>\n",
       "      <td>0</td>\n",
       "    </tr>\n",
       "    <tr>\n",
       "      <th>4</th>\n",
       "      <td>Home &gt; Ladies Gifts &gt; Mugs, Water Bottles &amp; Mo...</td>\n",
       "      <td>13</td>\n",
       "    </tr>\n",
       "    <tr>\n",
       "      <th>5</th>\n",
       "      <td>Home</td>\n",
       "      <td>1</td>\n",
       "    </tr>\n",
       "    <tr>\n",
       "      <th>6</th>\n",
       "      <td>Home &gt; Dooney &amp; Bourke &gt; Collections &gt; Toledo</td>\n",
       "      <td>6</td>\n",
       "    </tr>\n",
       "    <tr>\n",
       "      <th>7</th>\n",
       "      <td></td>\n",
       "      <td>0</td>\n",
       "    </tr>\n",
       "    <tr>\n",
       "      <th>8</th>\n",
       "      <td>Makeup &gt; The Brush Collection</td>\n",
       "      <td>4</td>\n",
       "    </tr>\n",
       "    <tr>\n",
       "      <th>9</th>\n",
       "      <td>Home &gt; Intex Floats and Accessories</td>\n",
       "      <td>5</td>\n",
       "    </tr>\n",
       "    <tr>\n",
       "      <th>10</th>\n",
       "      <td></td>\n",
       "      <td>0</td>\n",
       "    </tr>\n",
       "    <tr>\n",
       "      <th>11</th>\n",
       "      <td></td>\n",
       "      <td>0</td>\n",
       "    </tr>\n",
       "    <tr>\n",
       "      <th>12</th>\n",
       "      <td></td>\n",
       "      <td>0</td>\n",
       "    </tr>\n",
       "    <tr>\n",
       "      <th>13</th>\n",
       "      <td>Home &gt; Women &gt; Sweaters &gt; Pullover</td>\n",
       "      <td>4</td>\n",
       "    </tr>\n",
       "    <tr>\n",
       "      <th>14</th>\n",
       "      <td></td>\n",
       "      <td>0</td>\n",
       "    </tr>\n",
       "    <tr>\n",
       "      <th>15</th>\n",
       "      <td></td>\n",
       "      <td>0</td>\n",
       "    </tr>\n",
       "    <tr>\n",
       "      <th>16</th>\n",
       "      <td>Home &gt; Special Offers</td>\n",
       "      <td>3</td>\n",
       "    </tr>\n",
       "    <tr>\n",
       "      <th>17</th>\n",
       "      <td>Home &gt; Special Offers</td>\n",
       "      <td>3</td>\n",
       "    </tr>\n",
       "    <tr>\n",
       "      <th>18</th>\n",
       "      <td>Home &gt; Magazines &gt; Business &amp; Finance &gt; Engine...</td>\n",
       "      <td>6</td>\n",
       "    </tr>\n",
       "    <tr>\n",
       "      <th>19</th>\n",
       "      <td>Tabletop &amp; Decor &gt; Dinnerware &gt; Plates &gt; Salad...</td>\n",
       "      <td>9</td>\n",
       "    </tr>\n",
       "    <tr>\n",
       "      <th>20</th>\n",
       "      <td>Home</td>\n",
       "      <td>1</td>\n",
       "    </tr>\n",
       "    <tr>\n",
       "      <th>21</th>\n",
       "      <td>Home &gt; Kid &gt; Girl &gt; New Arrivals &gt; Tops</td>\n",
       "      <td>6</td>\n",
       "    </tr>\n",
       "    <tr>\n",
       "      <th>22</th>\n",
       "      <td>home &gt; textbooks &gt; music &gt; genres &amp; styles &gt; jazz</td>\n",
       "      <td>7</td>\n",
       "    </tr>\n",
       "    <tr>\n",
       "      <th>23</th>\n",
       "      <td>Hair Care &gt; Systems, Sets &amp; Duos</td>\n",
       "      <td>6</td>\n",
       "    </tr>\n",
       "    <tr>\n",
       "      <th>24</th>\n",
       "      <td>Home &gt; Skincare &gt; By Concern or Benefit</td>\n",
       "      <td>6</td>\n",
       "    </tr>\n",
       "    <tr>\n",
       "      <th>25</th>\n",
       "      <td>Home &gt; Omni PC</td>\n",
       "      <td>3</td>\n",
       "    </tr>\n",
       "    <tr>\n",
       "      <th>26</th>\n",
       "      <td></td>\n",
       "      <td>0</td>\n",
       "    </tr>\n",
       "    <tr>\n",
       "      <th>27</th>\n",
       "      <td>Home &gt; Schematic Product Parts</td>\n",
       "      <td>4</td>\n",
       "    </tr>\n",
       "    <tr>\n",
       "      <th>28</th>\n",
       "      <td>home &gt; textbooks &gt; literary criticism &gt; scienc...</td>\n",
       "      <td>8</td>\n",
       "    </tr>\n",
       "    <tr>\n",
       "      <th>29</th>\n",
       "      <td>Home &gt; Kids &gt; All Kids Shoes &gt; Boys &gt; All Boys...</td>\n",
       "      <td>12</td>\n",
       "    </tr>\n",
       "    <tr>\n",
       "      <th>...</th>\n",
       "      <td>...</td>\n",
       "      <td>...</td>\n",
       "    </tr>\n",
       "    <tr>\n",
       "      <th>8451</th>\n",
       "      <td>Home &gt; Vehicles, Trains, RC &gt; Model Kits</td>\n",
       "      <td>6</td>\n",
       "    </tr>\n",
       "    <tr>\n",
       "      <th>8452</th>\n",
       "      <td>Home &gt; Guitars &gt; Acoustic Guitars &gt; 6 String A...</td>\n",
       "      <td>8</td>\n",
       "    </tr>\n",
       "    <tr>\n",
       "      <th>8453</th>\n",
       "      <td>Home &gt; Computer Systems &gt; Monitors &gt; Monitor A...</td>\n",
       "      <td>7</td>\n",
       "    </tr>\n",
       "    <tr>\n",
       "      <th>8454</th>\n",
       "      <td></td>\n",
       "      <td>0</td>\n",
       "    </tr>\n",
       "    <tr>\n",
       "      <th>8455</th>\n",
       "      <td>Home &gt; Okidata &gt; MPS Series &gt; MPS3537</td>\n",
       "      <td>5</td>\n",
       "    </tr>\n",
       "    <tr>\n",
       "      <th>8456</th>\n",
       "      <td></td>\n",
       "      <td>0</td>\n",
       "    </tr>\n",
       "    <tr>\n",
       "      <th>8457</th>\n",
       "      <td>Collectibles &amp; Fine Art &gt; Sports &gt; Publication...</td>\n",
       "      <td>8</td>\n",
       "    </tr>\n",
       "    <tr>\n",
       "      <th>8458</th>\n",
       "      <td>Home &gt; Shoes &gt; Men's Shoes &gt; Men's Water Shoes</td>\n",
       "      <td>7</td>\n",
       "    </tr>\n",
       "    <tr>\n",
       "      <th>8459</th>\n",
       "      <td>Home &gt; Home &gt; Laptops &amp; Ultrabooks &gt; Laptops &amp;...</td>\n",
       "      <td>18</td>\n",
       "    </tr>\n",
       "    <tr>\n",
       "      <th>8460</th>\n",
       "      <td>Women &gt; Shoes &gt; Boots &gt; Tall Shaft</td>\n",
       "      <td>5</td>\n",
       "    </tr>\n",
       "    <tr>\n",
       "      <th>8461</th>\n",
       "      <td>Home &gt; Plumbing &gt; Washing Machine Hose &amp; Acces...</td>\n",
       "      <td>8</td>\n",
       "    </tr>\n",
       "    <tr>\n",
       "      <th>8462</th>\n",
       "      <td></td>\n",
       "      <td>0</td>\n",
       "    </tr>\n",
       "    <tr>\n",
       "      <th>8463</th>\n",
       "      <td>Clothing &gt; Tops &gt; Night Out &gt; THE GREAT. Cloth...</td>\n",
       "      <td>10</td>\n",
       "    </tr>\n",
       "    <tr>\n",
       "      <th>8464</th>\n",
       "      <td>Brands &gt; Trans Globe Lighting &gt; Post Lights</td>\n",
       "      <td>6</td>\n",
       "    </tr>\n",
       "    <tr>\n",
       "      <th>8465</th>\n",
       "      <td>Home &gt; Women's &gt; Women's Clothing &gt; Women's Sh...</td>\n",
       "      <td>9</td>\n",
       "    </tr>\n",
       "    <tr>\n",
       "      <th>8466</th>\n",
       "      <td>Puritan's Pride &gt; Shop By Categories &gt; Shop Mo...</td>\n",
       "      <td>8</td>\n",
       "    </tr>\n",
       "    <tr>\n",
       "      <th>8467</th>\n",
       "      <td>Herbs &amp; Botanicals &gt; Green Coffee</td>\n",
       "      <td>5</td>\n",
       "    </tr>\n",
       "    <tr>\n",
       "      <th>8468</th>\n",
       "      <td>Home &gt; Amplifiers &amp; Effects &gt; Effects &gt; Effect...</td>\n",
       "      <td>12</td>\n",
       "    </tr>\n",
       "    <tr>\n",
       "      <th>8469</th>\n",
       "      <td>Home &gt; The Hobbit: The Motion Picture Trilogy ...</td>\n",
       "      <td>8</td>\n",
       "    </tr>\n",
       "    <tr>\n",
       "      <th>8470</th>\n",
       "      <td>Home / Shop All / Clothes / BARBER Fun Size Cr...</td>\n",
       "      <td>17</td>\n",
       "    </tr>\n",
       "    <tr>\n",
       "      <th>8471</th>\n",
       "      <td>Auto &amp; Tires &gt; Auto Parts &gt; Engine Air Filters</td>\n",
       "      <td>8</td>\n",
       "    </tr>\n",
       "    <tr>\n",
       "      <th>8472</th>\n",
       "      <td>Home</td>\n",
       "      <td>1</td>\n",
       "    </tr>\n",
       "    <tr>\n",
       "      <th>8473</th>\n",
       "      <td>Home &gt; Amplifiers &amp; Effects &gt; Amplifiers &gt; Gui...</td>\n",
       "      <td>14</td>\n",
       "    </tr>\n",
       "    <tr>\n",
       "      <th>8474</th>\n",
       "      <td>Home &gt; Men's &gt; Men's Clothing &gt; Men's Shirts &gt;...</td>\n",
       "      <td>11</td>\n",
       "    </tr>\n",
       "    <tr>\n",
       "      <th>8475</th>\n",
       "      <td></td>\n",
       "      <td>0</td>\n",
       "    </tr>\n",
       "    <tr>\n",
       "      <th>8476</th>\n",
       "      <td></td>\n",
       "      <td>0</td>\n",
       "    </tr>\n",
       "    <tr>\n",
       "      <th>8477</th>\n",
       "      <td></td>\n",
       "      <td>0</td>\n",
       "    </tr>\n",
       "    <tr>\n",
       "      <th>8478</th>\n",
       "      <td></td>\n",
       "      <td>0</td>\n",
       "    </tr>\n",
       "    <tr>\n",
       "      <th>8479</th>\n",
       "      <td></td>\n",
       "      <td>0</td>\n",
       "    </tr>\n",
       "    <tr>\n",
       "      <th>8480</th>\n",
       "      <td>Home &gt; CLOTHING &gt; Men's Clothing &gt; Men's Shorts</td>\n",
       "      <td>6</td>\n",
       "    </tr>\n",
       "  </tbody>\n",
       "</table>\n",
       "<p>8481 rows × 2 columns</p>\n",
       "</div>"
      ],
      "text/plain": [
       "                                            breadCrumbs  word_count\n",
       "0                                                                 0\n",
       "1                                                                 0\n",
       "2                                                                 0\n",
       "3                                                                 0\n",
       "4     Home > Ladies Gifts > Mugs, Water Bottles & Mo...          13\n",
       "5                                                  Home           1\n",
       "6         Home > Dooney & Bourke > Collections > Toledo           6\n",
       "7                                                                 0\n",
       "8                         Makeup > The Brush Collection           4\n",
       "9                   Home > Intex Floats and Accessories           5\n",
       "10                                                                0\n",
       "11                                                                0\n",
       "12                                                                0\n",
       "13                   Home > Women > Sweaters > Pullover           4\n",
       "14                                                                0\n",
       "15                                                                0\n",
       "16                                Home > Special Offers           3\n",
       "17                                Home > Special Offers           3\n",
       "18    Home > Magazines > Business & Finance > Engine...           6\n",
       "19    Tabletop & Decor > Dinnerware > Plates > Salad...           9\n",
       "20                                                 Home           1\n",
       "21              Home > Kid > Girl > New Arrivals > Tops           6\n",
       "22    home > textbooks > music > genres & styles > jazz           7\n",
       "23                     Hair Care > Systems, Sets & Duos           6\n",
       "24              Home > Skincare > By Concern or Benefit           6\n",
       "25                                       Home > Omni PC           3\n",
       "26                                                                0\n",
       "27                       Home > Schematic Product Parts           4\n",
       "28    home > textbooks > literary criticism > scienc...           8\n",
       "29    Home > Kids > All Kids Shoes > Boys > All Boys...          12\n",
       "...                                                 ...         ...\n",
       "8451           Home > Vehicles, Trains, RC > Model Kits           6\n",
       "8452  Home > Guitars > Acoustic Guitars > 6 String A...           8\n",
       "8453  Home > Computer Systems > Monitors > Monitor A...           7\n",
       "8454                                                              0\n",
       "8455              Home > Okidata > MPS Series > MPS3537           5\n",
       "8456                                                              0\n",
       "8457  Collectibles & Fine Art > Sports > Publication...           8\n",
       "8458     Home > Shoes > Men's Shoes > Men's Water Shoes           7\n",
       "8459  Home > Home > Laptops & Ultrabooks > Laptops &...          18\n",
       "8460                 Women > Shoes > Boots > Tall Shaft           5\n",
       "8461  Home > Plumbing > Washing Machine Hose & Acces...           8\n",
       "8462                                                              0\n",
       "8463  Clothing > Tops > Night Out > THE GREAT. Cloth...          10\n",
       "8464        Brands > Trans Globe Lighting > Post Lights           6\n",
       "8465  Home > Women's > Women's Clothing > Women's Sh...           9\n",
       "8466  Puritan's Pride > Shop By Categories > Shop Mo...           8\n",
       "8467                  Herbs & Botanicals > Green Coffee           5\n",
       "8468  Home > Amplifiers & Effects > Effects > Effect...          12\n",
       "8469  Home > The Hobbit: The Motion Picture Trilogy ...           8\n",
       "8470  Home / Shop All / Clothes / BARBER Fun Size Cr...          17\n",
       "8471     Auto & Tires > Auto Parts > Engine Air Filters           8\n",
       "8472                                               Home           1\n",
       "8473  Home > Amplifiers & Effects > Amplifiers > Gui...          14\n",
       "8474  Home > Men's > Men's Clothing > Men's Shirts >...          11\n",
       "8475                                                              0\n",
       "8476                                                              0\n",
       "8477                                                              0\n",
       "8478                                                              0\n",
       "8479                                                              0\n",
       "8480    Home > CLOTHING > Men's Clothing > Men's Shorts           6\n",
       "\n",
       "[8481 rows x 2 columns]"
      ]
     },
     "execution_count": 15,
     "metadata": {},
     "output_type": "execute_result"
    }
   ],
   "source": [
    "breadcrumbs"
   ]
  },
  {
   "cell_type": "code",
   "execution_count": 16,
   "metadata": {
    "collapsed": false
   },
   "outputs": [
    {
     "data": {
      "text/plain": [
       "<matplotlib.axes._subplots.AxesSubplot at 0x7fcc378e1910>"
      ]
     },
     "execution_count": 16,
     "metadata": {},
     "output_type": "execute_result"
    },
    {
     "data": {
      "image/png": "[encoded data removed]",
      "text/plain": [
       "<matplotlib.figure.Figure at 0x7fcc378d89d0>"
      ]
     },
     "metadata": {},
     "output_type": "display_data"
    }
   ],
   "source": [
    "breadcrumbs.plot()"
   ]
  },
  {
   "cell_type": "code",
   "execution_count": 17,
   "metadata": {
    "collapsed": false
   },
   "outputs": [
    {
     "data": {
      "text/plain": [
       "<matplotlib.axes._subplots.AxesSubplot at 0x7fcc37262ad0>"
      ]
     },
     "execution_count": 17,
     "metadata": {},
     "output_type": "execute_result"
    },
    {
     "data": {
      "image/png": "[encoded data removed]",
      "text/plain": [
       "<matplotlib.figure.Figure at 0x7fcc370fe150>"
      ]
     },
     "metadata": {},
     "output_type": "display_data"
    }
   ],
   "source": [
    "breadcrumbs.plot.box()"
   ]
  },
  {
   "cell_type": "code",
   "execution_count": 18,
   "metadata": {
    "collapsed": false
   },
   "outputs": [
    {
     "data": {
      "text/plain": [
       "<matplotlib.axes._subplots.AxesSubplot at 0x7fcc37121890>"
      ]
     },
     "execution_count": 18,
     "metadata": {},
     "output_type": "execute_result"
    },
    {
     "data": {
      "image/png": "[encoded data removed]",
      "text/plain": [
       "<matplotlib.figure.Figure at 0x7fcc37033a10>"
      ]
     },
     "metadata": {},
     "output_type": "display_data"
    }
   ],
   "source": [
    "breadcrumbs[breadcrumbs['word_count'] != 0].plot.box()"
   ]
  },
  {
   "cell_type": "markdown",
   "metadata": {},
   "source": [
    "# How many samples did we misclassify?\n",
    "We call a product misclassified if the categoryNamePath_status say 'Incorrect'."
   ]
  },
  {
   "cell_type": "code",
   "execution_count": 19,
   "metadata": {
    "collapsed": false
   },
   "outputs": [],
   "source": [
    "classification_data = spot_check_data[['categoryNamePath','categoryNamePath_status']].copy()"
   ]
  },
  {
   "cell_type": "code",
   "execution_count": 20,
   "metadata": {
    "collapsed": false
   },
   "outputs": [],
   "source": [
    "classification_data = classification_data.dropna()"
   ]
  },
  {
   "cell_type": "code",
   "execution_count": 21,
   "metadata": {
    "collapsed": false
   },
   "outputs": [
    {
     "data": {
      "text/plain": [
       "Correct      5021\n",
       "Incorrect    1595\n",
       "Missed          7\n",
       "Name: categoryNamePath_status, dtype: int64"
      ]
     },
     "execution_count": 21,
     "metadata": {},
     "output_type": "execute_result"
    }
   ],
   "source": [
    "clfn_spot_check = classification_data['categoryNamePath_status'].value_counts()\n",
    "clfn_spot_check"
   ]
  },
  {
   "cell_type": "code",
   "execution_count": 22,
   "metadata": {
    "collapsed": false
   },
   "outputs": [
    {
     "data": {
      "text/plain": [
       "1595"
      ]
     },
     "execution_count": 22,
     "metadata": {},
     "output_type": "execute_result"
    }
   ],
   "source": [
    "# misclassified\n",
    "clfn_spot_check['Incorrect']"
   ]
  },
  {
   "cell_type": "markdown",
   "metadata": {},
   "source": [
    "# What is probability of misclassifying a sample?"
   ]
  },
  {
   "cell_type": "code",
   "execution_count": 23,
   "metadata": {
    "collapsed": false
   },
   "outputs": [
    {
     "data": {
      "text/plain": [
       "0.24108222490931075"
      ]
     },
     "execution_count": 23,
     "metadata": {},
     "output_type": "execute_result"
    }
   ],
   "source": [
    "clfn_spot_check['Incorrect'] * 1.0 / (clfn_spot_check['Incorrect'] + clfn_spot_check['Correct'])"
   ]
  },
  {
   "cell_type": "markdown",
   "metadata": {},
   "source": [
    "# How many samples are misclassified when the breadcrumbs are invalid?\n",
    "We assume that a breadcrumb is invalid when it is not correct."
   ]
  },
  {
   "cell_type": "code",
   "execution_count": 24,
   "metadata": {
    "collapsed": true
   },
   "outputs": [],
   "source": [
    "breadcrumb_clfn_data = spot_check_data[['categoryNamePath','categoryNamePath_status', \n",
    "                                        'breadCrumbs', 'breadCrumbs_status']].copy()"
   ]
  },
  {
   "cell_type": "code",
   "execution_count": 25,
   "metadata": {
    "collapsed": false
   },
   "outputs": [
    {
     "data": {
      "text/html": [
       "<div>\n",
       "<table border=\"1\" class=\"dataframe\">\n",
       "  <thead>\n",
       "    <tr style=\"text-align: right;\">\n",
       "      <th></th>\n",
       "      <th>categoryNamePath</th>\n",
       "      <th>categoryNamePath_status</th>\n",
       "      <th>breadCrumbs</th>\n",
       "      <th>breadCrumbs_status</th>\n",
       "    </tr>\n",
       "  </thead>\n",
       "  <tbody>\n",
       "    <tr>\n",
       "      <th>count</th>\n",
       "      <td>694</td>\n",
       "      <td>694</td>\n",
       "      <td>198</td>\n",
       "      <td>694</td>\n",
       "    </tr>\n",
       "    <tr>\n",
       "      <th>unique</th>\n",
       "      <td>393</td>\n",
       "      <td>1</td>\n",
       "      <td>153</td>\n",
       "      <td>3</td>\n",
       "    </tr>\n",
       "    <tr>\n",
       "      <th>top</th>\n",
       "      <td>Additional</td>\n",
       "      <td>Incorrect</td>\n",
       "      <td>Sale &gt; Tops</td>\n",
       "      <td>Notpresent</td>\n",
       "    </tr>\n",
       "    <tr>\n",
       "      <th>freq</th>\n",
       "      <td>42</td>\n",
       "      <td>694</td>\n",
       "      <td>5</td>\n",
       "      <td>406</td>\n",
       "    </tr>\n",
       "  </tbody>\n",
       "</table>\n",
       "</div>"
      ],
      "text/plain": [
       "       categoryNamePath categoryNamePath_status  breadCrumbs  \\\n",
       "count               694                     694          198   \n",
       "unique              393                       1          153   \n",
       "top          Additional               Incorrect  Sale > Tops   \n",
       "freq                 42                     694            5   \n",
       "\n",
       "       breadCrumbs_status  \n",
       "count                 694  \n",
       "unique                  3  \n",
       "top            Notpresent  \n",
       "freq                  406  "
      ]
     },
     "execution_count": 25,
     "metadata": {},
     "output_type": "execute_result"
    }
   ],
   "source": [
    "breadcrumb_clfn_data[(breadcrumb_clfn_data.categoryNamePath_status == 'Incorrect') & (breadcrumb_clfn_data.breadCrumbs_status != 'Correct')].describe()"
   ]
  },
  {
   "cell_type": "markdown",
   "metadata": {},
   "source": [
    "# What is the probability that breadcrumbs are invalid?"
   ]
  },
  {
   "cell_type": "code",
   "execution_count": 26,
   "metadata": {
    "collapsed": false
   },
   "outputs": [
    {
     "data": {
      "text/plain": [
       "Correct       4340\n",
       "Notpresent    1245\n",
       "Incorrect      747\n",
       "Missed         291\n",
       "Name: breadCrumbs_status, dtype: int64"
      ]
     },
     "execution_count": 26,
     "metadata": {},
     "output_type": "execute_result"
    }
   ],
   "source": [
    "breadcrumb_value_counts = breadcrumb_clfn_data['breadCrumbs_status'].value_counts()\n",
    "breadcrumb_value_counts"
   ]
  },
  {
   "cell_type": "code",
   "execution_count": 27,
   "metadata": {
    "collapsed": false
   },
   "outputs": [
    {
     "data": {
      "text/plain": [
       "Correct      5021\n",
       "Incorrect    1595\n",
       "Missed          7\n",
       "Name: categoryNamePath_status, dtype: int64"
      ]
     },
     "execution_count": 27,
     "metadata": {},
     "output_type": "execute_result"
    }
   ],
   "source": [
    "clfn_value_counts = breadcrumb_clfn_data['categoryNamePath_status'].value_counts()\n",
    "clfn_value_counts"
   ]
  },
  {
   "cell_type": "code",
   "execution_count": 28,
   "metadata": {
    "collapsed": false
   },
   "outputs": [
    {
     "data": {
      "text/plain": [
       "0.3447078363279481"
      ]
     },
     "execution_count": 28,
     "metadata": {},
     "output_type": "execute_result"
    }
   ],
   "source": [
    "probability_of_breadcrumb_invalid = 1 - (breadcrumb_value_counts['Correct'] * 1.0/breadcrumb_value_counts.sum())\n",
    "probability_of_breadcrumb_invalid"
   ]
  },
  {
   "cell_type": "markdown",
   "metadata": {},
   "source": [
    "# What is the probability of correct category given that breadcrumb is invalid?"
   ]
  },
  {
   "cell_type": "code",
   "execution_count": 29,
   "metadata": {
    "collapsed": false
   },
   "outputs": [
    {
     "data": {
      "text/plain": [
       "1588"
      ]
     },
     "execution_count": 29,
     "metadata": {},
     "output_type": "execute_result"
    }
   ],
   "source": [
    "clfn_correct_breadcrumb_invalid_data = breadcrumb_clfn_data[(breadcrumb_clfn_data.categoryNamePath_status == 'Correct') \n",
    "                                                            & (breadcrumb_clfn_data.breadCrumbs_status != 'Correct')].copy()\n",
    "clfn_correct_breadcrumb_invalid_count = clfn_correct_breadcrumb_invalid_data.count()['categoryNamePath']\n",
    "clfn_correct_breadcrumb_invalid_count"
   ]
  },
  {
   "cell_type": "code",
   "execution_count": 30,
   "metadata": {
    "collapsed": false
   },
   "outputs": [
    {
     "data": {
      "text/plain": [
       "0.69557599649583879"
      ]
     },
     "execution_count": 30,
     "metadata": {},
     "output_type": "execute_result"
    }
   ],
   "source": [
    "prob_clfn_correct_breadcrumb_invalid = clfn_correct_breadcrumb_invalid_count * 1.0 / (breadcrumb_value_counts.sum() - breadcrumb_value_counts['Correct'])\n",
    "prob_clfn_correct_breadcrumb_invalid"
   ]
  },
  {
   "cell_type": "markdown",
   "metadata": {},
   "source": [
    "# Which toplevel category contains most invalid breadcrumbs?\n"
   ]
  },
  {
   "cell_type": "code",
   "execution_count": 31,
   "metadata": {
    "collapsed": false
   },
   "outputs": [],
   "source": [
    "def getTopCategory(categoryPath):\n",
    "    return categoryPath.split(\" >\")[0]\n",
    "clfn_correct_breadcrumb_invalid_data['topCategory'] = clfn_correct_breadcrumb_invalid_data['categoryNamePath'].apply(getTopCategory)"
   ]
  },
  {
   "cell_type": "code",
   "execution_count": 32,
   "metadata": {
    "collapsed": false
   },
   "outputs": [
    {
     "data": {
      "text/html": [
       "<div>\n",
       "<table border=\"1\" class=\"dataframe\">\n",
       "  <thead>\n",
       "    <tr style=\"text-align: right;\">\n",
       "      <th></th>\n",
       "      <th>categoryNamePath</th>\n",
       "      <th>categoryNamePath_status</th>\n",
       "      <th>breadCrumbs</th>\n",
       "      <th>breadCrumbs_status</th>\n",
       "      <th>topCategory</th>\n",
       "    </tr>\n",
       "  </thead>\n",
       "  <tbody>\n",
       "    <tr>\n",
       "      <th>0</th>\n",
       "      <td>Clothing &amp; Accessories &gt; Novelty &amp; Special Use...</td>\n",
       "      <td>Correct</td>\n",
       "      <td>NaN</td>\n",
       "      <td>Notpresent</td>\n",
       "      <td>Clothing &amp; Accessories</td>\n",
       "    </tr>\n",
       "    <tr>\n",
       "      <th>1</th>\n",
       "      <td>Patio, Lawn &amp; Garden &gt; Patio Furniture &amp; Acces...</td>\n",
       "      <td>Correct</td>\n",
       "      <td>NaN</td>\n",
       "      <td>Notpresent</td>\n",
       "      <td>Patio, Lawn &amp; Garden</td>\n",
       "    </tr>\n",
       "    <tr>\n",
       "      <th>2</th>\n",
       "      <td>Patio, Lawn &amp; Garden &gt; Patio Furniture &amp; Acces...</td>\n",
       "      <td>Correct</td>\n",
       "      <td>NaN</td>\n",
       "      <td>Notpresent</td>\n",
       "      <td>Patio, Lawn &amp; Garden</td>\n",
       "    </tr>\n",
       "    <tr>\n",
       "      <th>7</th>\n",
       "      <td>Tools &amp; Home Improvement &gt; Building Supplies &gt;...</td>\n",
       "      <td>Correct</td>\n",
       "      <td>NaN</td>\n",
       "      <td>Notpresent</td>\n",
       "      <td>Tools &amp; Home Improvement</td>\n",
       "    </tr>\n",
       "    <tr>\n",
       "      <th>10</th>\n",
       "      <td>Sports &amp; Outdoors &gt; Clothing &amp; Accessories &gt; M...</td>\n",
       "      <td>Correct</td>\n",
       "      <td>NaN</td>\n",
       "      <td>Notpresent</td>\n",
       "      <td>Sports &amp; Outdoors</td>\n",
       "    </tr>\n",
       "    <tr>\n",
       "      <th>11</th>\n",
       "      <td>Health &amp; Personal Care &gt; Medical Supplies &amp; Eq...</td>\n",
       "      <td>Correct</td>\n",
       "      <td>NaN</td>\n",
       "      <td>Notpresent</td>\n",
       "      <td>Health &amp; Personal Care</td>\n",
       "    </tr>\n",
       "    <tr>\n",
       "      <th>12</th>\n",
       "      <td>Tools &amp; Home Improvement &gt; Power &amp; Hand Tools ...</td>\n",
       "      <td>Correct</td>\n",
       "      <td>NaN</td>\n",
       "      <td>Notpresent</td>\n",
       "      <td>Tools &amp; Home Improvement</td>\n",
       "    </tr>\n",
       "    <tr>\n",
       "      <th>14</th>\n",
       "      <td>Toys &amp; Games &gt; Party Supplies &gt; Balloons</td>\n",
       "      <td>Correct</td>\n",
       "      <td>NaN</td>\n",
       "      <td>Notpresent</td>\n",
       "      <td>Toys &amp; Games</td>\n",
       "    </tr>\n",
       "    <tr>\n",
       "      <th>33</th>\n",
       "      <td>Office Products &gt; Office Electronics &gt; Electro...</td>\n",
       "      <td>Correct</td>\n",
       "      <td>NaN</td>\n",
       "      <td>Notpresent</td>\n",
       "      <td>Office Products</td>\n",
       "    </tr>\n",
       "    <tr>\n",
       "      <th>37</th>\n",
       "      <td>Grocery &amp; Gourmet Food &gt; Fresh Flowers &amp; Live ...</td>\n",
       "      <td>Correct</td>\n",
       "      <td>NaN</td>\n",
       "      <td>Notpresent</td>\n",
       "      <td>Grocery &amp; Gourmet Food</td>\n",
       "    </tr>\n",
       "    <tr>\n",
       "      <th>46</th>\n",
       "      <td>Grocery &amp; Gourmet Food &gt; Fresh Flowers &amp; Live ...</td>\n",
       "      <td>Correct</td>\n",
       "      <td>NaN</td>\n",
       "      <td>Notpresent</td>\n",
       "      <td>Grocery &amp; Gourmet Food</td>\n",
       "    </tr>\n",
       "    <tr>\n",
       "      <th>57</th>\n",
       "      <td>Health &amp; Personal Care &gt; Skin Care &gt; Eyes &gt; Pu...</td>\n",
       "      <td>Correct</td>\n",
       "      <td>Home</td>\n",
       "      <td>Incorrect</td>\n",
       "      <td>Health &amp; Personal Care</td>\n",
       "    </tr>\n",
       "    <tr>\n",
       "      <th>58</th>\n",
       "      <td>Patio, Lawn &amp; Garden &gt; Gardening &amp; Lawn Care &gt;...</td>\n",
       "      <td>Correct</td>\n",
       "      <td>NaN</td>\n",
       "      <td>Notpresent</td>\n",
       "      <td>Patio, Lawn &amp; Garden</td>\n",
       "    </tr>\n",
       "    <tr>\n",
       "      <th>60</th>\n",
       "      <td>Health &amp; Personal Care &gt; Hair Care &gt; Conditioners</td>\n",
       "      <td>Correct</td>\n",
       "      <td>NaN</td>\n",
       "      <td>Missed</td>\n",
       "      <td>Health &amp; Personal Care</td>\n",
       "    </tr>\n",
       "    <tr>\n",
       "      <th>63</th>\n",
       "      <td>Office Products &gt; Stationery &gt; Greeting Cards</td>\n",
       "      <td>Correct</td>\n",
       "      <td>NaN</td>\n",
       "      <td>Notpresent</td>\n",
       "      <td>Office Products</td>\n",
       "    </tr>\n",
       "    <tr>\n",
       "      <th>65</th>\n",
       "      <td>Electronics &gt; Cell Phones &amp; Accessories &gt; Acce...</td>\n",
       "      <td>Correct</td>\n",
       "      <td>Home &gt; Shop</td>\n",
       "      <td>Incorrect</td>\n",
       "      <td>Electronics</td>\n",
       "    </tr>\n",
       "    <tr>\n",
       "      <th>77</th>\n",
       "      <td>Baby Products &gt; Apparel &amp; Accessories &gt; Baby B...</td>\n",
       "      <td>Correct</td>\n",
       "      <td>NaN</td>\n",
       "      <td>Notpresent</td>\n",
       "      <td>Baby Products</td>\n",
       "    </tr>\n",
       "    <tr>\n",
       "      <th>79</th>\n",
       "      <td>Shoes &gt; Men &gt; Athletic &gt; Soccer</td>\n",
       "      <td>Correct</td>\n",
       "      <td>NaN</td>\n",
       "      <td>Notpresent</td>\n",
       "      <td>Shoes</td>\n",
       "    </tr>\n",
       "    <tr>\n",
       "      <th>90</th>\n",
       "      <td>Shoes &gt; Handbags &gt; Shoulder Bags</td>\n",
       "      <td>Correct</td>\n",
       "      <td>NaN</td>\n",
       "      <td>Notpresent</td>\n",
       "      <td>Shoes</td>\n",
       "    </tr>\n",
       "    <tr>\n",
       "      <th>91</th>\n",
       "      <td>Shoes &gt; Men &gt; Athletic &gt; Running</td>\n",
       "      <td>Correct</td>\n",
       "      <td>NaN</td>\n",
       "      <td>Notpresent</td>\n",
       "      <td>Shoes</td>\n",
       "    </tr>\n",
       "    <tr>\n",
       "      <th>95</th>\n",
       "      <td>Clothing &amp; Accessories &gt; Men &gt; Accessories &gt; H...</td>\n",
       "      <td>Correct</td>\n",
       "      <td>NaN</td>\n",
       "      <td>Notpresent</td>\n",
       "      <td>Clothing &amp; Accessories</td>\n",
       "    </tr>\n",
       "    <tr>\n",
       "      <th>97</th>\n",
       "      <td>Media &gt; Videos</td>\n",
       "      <td>Correct</td>\n",
       "      <td>NaN</td>\n",
       "      <td>Notpresent</td>\n",
       "      <td>Media</td>\n",
       "    </tr>\n",
       "    <tr>\n",
       "      <th>108</th>\n",
       "      <td>Health &amp; Personal Care &gt; Personal Care &gt; Oral ...</td>\n",
       "      <td>Correct</td>\n",
       "      <td>NaN</td>\n",
       "      <td>Notpresent</td>\n",
       "      <td>Health &amp; Personal Care</td>\n",
       "    </tr>\n",
       "    <tr>\n",
       "      <th>110</th>\n",
       "      <td>Sports &amp; Outdoors &gt; Fan Shop &gt; Home &amp; Garden &gt;...</td>\n",
       "      <td>Correct</td>\n",
       "      <td>Back To Search Results &gt; Home &gt; NFL + Sports</td>\n",
       "      <td>Incorrect</td>\n",
       "      <td>Sports &amp; Outdoors</td>\n",
       "    </tr>\n",
       "    <tr>\n",
       "      <th>140</th>\n",
       "      <td>Home &amp; Kitchen &gt; Seasonal Décor &gt; Seasonal Lig...</td>\n",
       "      <td>Correct</td>\n",
       "      <td>NaN</td>\n",
       "      <td>Notpresent</td>\n",
       "      <td>Home &amp; Kitchen</td>\n",
       "    </tr>\n",
       "    <tr>\n",
       "      <th>142</th>\n",
       "      <td>Clothing &amp; Accessories &gt; Women &gt; Sweaters &gt; Pu...</td>\n",
       "      <td>Correct</td>\n",
       "      <td>Home &gt; tops &gt; sweaters &gt; pullovers</td>\n",
       "      <td>Incorrect</td>\n",
       "      <td>Clothing &amp; Accessories</td>\n",
       "    </tr>\n",
       "    <tr>\n",
       "      <th>143</th>\n",
       "      <td>Sports &amp; Outdoors &gt; Fan Shop &gt; Home &amp; Garden &gt;...</td>\n",
       "      <td>Correct</td>\n",
       "      <td>Back To Search Results &gt; Home &gt; NFL + Sports &gt;...</td>\n",
       "      <td>Incorrect</td>\n",
       "      <td>Sports &amp; Outdoors</td>\n",
       "    </tr>\n",
       "    <tr>\n",
       "      <th>147</th>\n",
       "      <td>Health &amp; Personal Care &gt; Health Care &gt; First A...</td>\n",
       "      <td>Correct</td>\n",
       "      <td>NaN</td>\n",
       "      <td>Notpresent</td>\n",
       "      <td>Health &amp; Personal Care</td>\n",
       "    </tr>\n",
       "    <tr>\n",
       "      <th>155</th>\n",
       "      <td>Grocery &amp; Gourmet Food &gt; Fresh Flowers &amp; Live ...</td>\n",
       "      <td>Correct</td>\n",
       "      <td>NaN</td>\n",
       "      <td>Notpresent</td>\n",
       "      <td>Grocery &amp; Gourmet Food</td>\n",
       "    </tr>\n",
       "    <tr>\n",
       "      <th>160</th>\n",
       "      <td>Shoes &gt; Men &gt; Athletic &gt; Basketball</td>\n",
       "      <td>Correct</td>\n",
       "      <td>NaN</td>\n",
       "      <td>Notpresent</td>\n",
       "      <td>Shoes</td>\n",
       "    </tr>\n",
       "    <tr>\n",
       "      <th>...</th>\n",
       "      <td>...</td>\n",
       "      <td>...</td>\n",
       "      <td>...</td>\n",
       "      <td>...</td>\n",
       "      <td>...</td>\n",
       "    </tr>\n",
       "    <tr>\n",
       "      <th>8353</th>\n",
       "      <td>Tools &amp; Home Improvement &gt; Kitchen &amp; Bath Fixt...</td>\n",
       "      <td>Correct</td>\n",
       "      <td>NaN</td>\n",
       "      <td>Missed</td>\n",
       "      <td>Tools &amp; Home Improvement</td>\n",
       "    </tr>\n",
       "    <tr>\n",
       "      <th>8362</th>\n",
       "      <td>Clothing &amp; Accessories &gt; Women &gt; Tops &amp; Tees &gt;...</td>\n",
       "      <td>Correct</td>\n",
       "      <td>NaN</td>\n",
       "      <td>Missed</td>\n",
       "      <td>Clothing &amp; Accessories</td>\n",
       "    </tr>\n",
       "    <tr>\n",
       "      <th>8365</th>\n",
       "      <td>Jewelry &gt; Novelty Jewelry &gt; Rings</td>\n",
       "      <td>Correct</td>\n",
       "      <td>NaN</td>\n",
       "      <td>Notpresent</td>\n",
       "      <td>Jewelry</td>\n",
       "    </tr>\n",
       "    <tr>\n",
       "      <th>8366</th>\n",
       "      <td>Jewelry &gt; Watches &gt; Women &gt; Wrist Watches</td>\n",
       "      <td>Correct</td>\n",
       "      <td>NaN</td>\n",
       "      <td>Missed</td>\n",
       "      <td>Jewelry</td>\n",
       "    </tr>\n",
       "    <tr>\n",
       "      <th>8367</th>\n",
       "      <td>Health &amp; Personal Care &gt; Makeup &gt; Eyes &gt; Eyeliner</td>\n",
       "      <td>Correct</td>\n",
       "      <td>NaN</td>\n",
       "      <td>Notpresent</td>\n",
       "      <td>Health &amp; Personal Care</td>\n",
       "    </tr>\n",
       "    <tr>\n",
       "      <th>8373</th>\n",
       "      <td>Home &amp; Kitchen &gt; Home Décor &gt; Area Rugs &amp; Pads...</td>\n",
       "      <td>Correct</td>\n",
       "      <td>NaN</td>\n",
       "      <td>Notpresent</td>\n",
       "      <td>Home &amp; Kitchen</td>\n",
       "    </tr>\n",
       "    <tr>\n",
       "      <th>8374</th>\n",
       "      <td>Clothing &amp; Accessories &gt; Women &gt; Tops &amp; Tees &gt;...</td>\n",
       "      <td>Correct</td>\n",
       "      <td>NaN</td>\n",
       "      <td>Notpresent</td>\n",
       "      <td>Clothing &amp; Accessories</td>\n",
       "    </tr>\n",
       "    <tr>\n",
       "      <th>8377</th>\n",
       "      <td>Clothing &amp; Accessories &gt; Women &gt; Dresses &gt; Casual</td>\n",
       "      <td>Correct</td>\n",
       "      <td>Essentiel Antwerp</td>\n",
       "      <td>Incorrect</td>\n",
       "      <td>Clothing &amp; Accessories</td>\n",
       "    </tr>\n",
       "    <tr>\n",
       "      <th>8387</th>\n",
       "      <td>Baby Products &gt; Apparel &amp; Accessories &gt; Baby G...</td>\n",
       "      <td>Correct</td>\n",
       "      <td>NaN</td>\n",
       "      <td>Notpresent</td>\n",
       "      <td>Baby Products</td>\n",
       "    </tr>\n",
       "    <tr>\n",
       "      <th>8394</th>\n",
       "      <td>Clothing &amp; Accessories &gt; Women &gt; Intimates &gt; B...</td>\n",
       "      <td>Correct</td>\n",
       "      <td>Top Secret &gt; Sale</td>\n",
       "      <td>Incorrect</td>\n",
       "      <td>Clothing &amp; Accessories</td>\n",
       "    </tr>\n",
       "    <tr>\n",
       "      <th>8397</th>\n",
       "      <td>Media &gt; Books</td>\n",
       "      <td>Correct</td>\n",
       "      <td>NaN</td>\n",
       "      <td>Missed</td>\n",
       "      <td>Media</td>\n",
       "    </tr>\n",
       "    <tr>\n",
       "      <th>8399</th>\n",
       "      <td>Shoes &gt; Women &gt; Flats</td>\n",
       "      <td>Correct</td>\n",
       "      <td>Home &gt; Shoes &gt; Featured Trends &gt; Ballet Flats ...</td>\n",
       "      <td>Incorrect</td>\n",
       "      <td>Shoes</td>\n",
       "    </tr>\n",
       "    <tr>\n",
       "      <th>8401</th>\n",
       "      <td>Jewelry &gt; Watches &gt; Novelty Watches</td>\n",
       "      <td>Correct</td>\n",
       "      <td>NaN</td>\n",
       "      <td>Missed</td>\n",
       "      <td>Jewelry</td>\n",
       "    </tr>\n",
       "    <tr>\n",
       "      <th>8405</th>\n",
       "      <td>Jewelry &gt; Watches &gt; Women &gt; Wrist Watches</td>\n",
       "      <td>Correct</td>\n",
       "      <td>NaN</td>\n",
       "      <td>Missed</td>\n",
       "      <td>Jewelry</td>\n",
       "    </tr>\n",
       "    <tr>\n",
       "      <th>8406</th>\n",
       "      <td>Jewelry &gt; Watches &gt; Men</td>\n",
       "      <td>Correct</td>\n",
       "      <td>NaN</td>\n",
       "      <td>Missed</td>\n",
       "      <td>Jewelry</td>\n",
       "    </tr>\n",
       "    <tr>\n",
       "      <th>8410</th>\n",
       "      <td>Shoes &gt; Women &gt; Fashion Sneakers</td>\n",
       "      <td>Correct</td>\n",
       "      <td>NaN</td>\n",
       "      <td>Notpresent</td>\n",
       "      <td>Shoes</td>\n",
       "    </tr>\n",
       "    <tr>\n",
       "      <th>8417</th>\n",
       "      <td>Jewelry &gt; Wedding &amp; Engagement Rings &gt; Wedding...</td>\n",
       "      <td>Correct</td>\n",
       "      <td>NaN</td>\n",
       "      <td>Notpresent</td>\n",
       "      <td>Jewelry</td>\n",
       "    </tr>\n",
       "    <tr>\n",
       "      <th>8418</th>\n",
       "      <td>Clothing &amp; Accessories &gt; Novelty &amp; Special Use...</td>\n",
       "      <td>Correct</td>\n",
       "      <td>NaN</td>\n",
       "      <td>Notpresent</td>\n",
       "      <td>Clothing &amp; Accessories</td>\n",
       "    </tr>\n",
       "    <tr>\n",
       "      <th>8419</th>\n",
       "      <td>Jewelry &gt; Watches &gt; Novelty Watches</td>\n",
       "      <td>Correct</td>\n",
       "      <td>NaN</td>\n",
       "      <td>Missed</td>\n",
       "      <td>Jewelry</td>\n",
       "    </tr>\n",
       "    <tr>\n",
       "      <th>8429</th>\n",
       "      <td>Clothing &amp; Accessories &gt; Novelty &amp; Special Use...</td>\n",
       "      <td>Correct</td>\n",
       "      <td>NaN</td>\n",
       "      <td>Missed</td>\n",
       "      <td>Clothing &amp; Accessories</td>\n",
       "    </tr>\n",
       "    <tr>\n",
       "      <th>8431</th>\n",
       "      <td>Jewelry &gt; Watches &gt; Novelty Watches</td>\n",
       "      <td>Correct</td>\n",
       "      <td>NaN</td>\n",
       "      <td>Missed</td>\n",
       "      <td>Jewelry</td>\n",
       "    </tr>\n",
       "    <tr>\n",
       "      <th>8437</th>\n",
       "      <td>Sports &amp; Outdoors &gt; Boating &amp; Water Sports &gt; B...</td>\n",
       "      <td>Correct</td>\n",
       "      <td>NaN</td>\n",
       "      <td>Missed</td>\n",
       "      <td>Sports &amp; Outdoors</td>\n",
       "    </tr>\n",
       "    <tr>\n",
       "      <th>8439</th>\n",
       "      <td>Clothing &amp; Accessories &gt; Women &gt; Intimates &gt; B...</td>\n",
       "      <td>Correct</td>\n",
       "      <td>NaN</td>\n",
       "      <td>Notpresent</td>\n",
       "      <td>Clothing &amp; Accessories</td>\n",
       "    </tr>\n",
       "    <tr>\n",
       "      <th>8443</th>\n",
       "      <td>Health &amp; Personal Care &gt; Makeup &gt; Face &gt; Bronz...</td>\n",
       "      <td>Correct</td>\n",
       "      <td>NaN</td>\n",
       "      <td>Missed</td>\n",
       "      <td>Health &amp; Personal Care</td>\n",
       "    </tr>\n",
       "    <tr>\n",
       "      <th>8445</th>\n",
       "      <td>Clothing &amp; Accessories &gt; Women &gt; Intimates &gt; B...</td>\n",
       "      <td>Correct</td>\n",
       "      <td>NaN</td>\n",
       "      <td>Notpresent</td>\n",
       "      <td>Clothing &amp; Accessories</td>\n",
       "    </tr>\n",
       "    <tr>\n",
       "      <th>8448</th>\n",
       "      <td>Shoes &gt; Women &gt; Sandals</td>\n",
       "      <td>Correct</td>\n",
       "      <td>Women &gt; Shoes &gt; Sandals &gt; Wedge</td>\n",
       "      <td>Incorrect</td>\n",
       "      <td>Shoes</td>\n",
       "    </tr>\n",
       "    <tr>\n",
       "      <th>8454</th>\n",
       "      <td>Health &amp; Personal Care &gt; Makeup &gt; Face &gt; Found...</td>\n",
       "      <td>Correct</td>\n",
       "      <td>NaN</td>\n",
       "      <td>Missed</td>\n",
       "      <td>Health &amp; Personal Care</td>\n",
       "    </tr>\n",
       "    <tr>\n",
       "      <th>8461</th>\n",
       "      <td>Tools &amp; Home Improvement &gt; Parts &amp; Accessories...</td>\n",
       "      <td>Correct</td>\n",
       "      <td>Home &gt; Plumbing &gt; Washing Machine Hose &amp; Acces...</td>\n",
       "      <td>Incorrect</td>\n",
       "      <td>Tools &amp; Home Improvement</td>\n",
       "    </tr>\n",
       "    <tr>\n",
       "      <th>8463</th>\n",
       "      <td>Clothing &amp; Accessories &gt; Women &gt; Tops &amp; Tees &gt;...</td>\n",
       "      <td>Correct</td>\n",
       "      <td>Clothing &gt; Tops &gt; Night Out &gt; THE GREAT. Cloth...</td>\n",
       "      <td>Incorrect</td>\n",
       "      <td>Clothing &amp; Accessories</td>\n",
       "    </tr>\n",
       "    <tr>\n",
       "      <th>8475</th>\n",
       "      <td>Home &amp; Kitchen &gt; Artwork &gt; Posters &amp; Prints</td>\n",
       "      <td>Correct</td>\n",
       "      <td>NaN</td>\n",
       "      <td>Missed</td>\n",
       "      <td>Home &amp; Kitchen</td>\n",
       "    </tr>\n",
       "  </tbody>\n",
       "</table>\n",
       "<p>1588 rows × 5 columns</p>\n",
       "</div>"
      ],
      "text/plain": [
       "                                       categoryNamePath  \\\n",
       "0     Clothing & Accessories > Novelty & Special Use...   \n",
       "1     Patio, Lawn & Garden > Patio Furniture & Acces...   \n",
       "2     Patio, Lawn & Garden > Patio Furniture & Acces...   \n",
       "7     Tools & Home Improvement > Building Supplies >...   \n",
       "10    Sports & Outdoors > Clothing & Accessories > M...   \n",
       "11    Health & Personal Care > Medical Supplies & Eq...   \n",
       "12    Tools & Home Improvement > Power & Hand Tools ...   \n",
       "14             Toys & Games > Party Supplies > Balloons   \n",
       "33    Office Products > Office Electronics > Electro...   \n",
       "37    Grocery & Gourmet Food > Fresh Flowers & Live ...   \n",
       "46    Grocery & Gourmet Food > Fresh Flowers & Live ...   \n",
       "57    Health & Personal Care > Skin Care > Eyes > Pu...   \n",
       "58    Patio, Lawn & Garden > Gardening & Lawn Care >...   \n",
       "60    Health & Personal Care > Hair Care > Conditioners   \n",
       "63        Office Products > Stationery > Greeting Cards   \n",
       "65    Electronics > Cell Phones & Accessories > Acce...   \n",
       "77    Baby Products > Apparel & Accessories > Baby B...   \n",
       "79                      Shoes > Men > Athletic > Soccer   \n",
       "90                     Shoes > Handbags > Shoulder Bags   \n",
       "91                     Shoes > Men > Athletic > Running   \n",
       "95    Clothing & Accessories > Men > Accessories > H...   \n",
       "97                                       Media > Videos   \n",
       "108   Health & Personal Care > Personal Care > Oral ...   \n",
       "110   Sports & Outdoors > Fan Shop > Home & Garden >...   \n",
       "140   Home & Kitchen > Seasonal Décor > Seasonal Lig...   \n",
       "142   Clothing & Accessories > Women > Sweaters > Pu...   \n",
       "143   Sports & Outdoors > Fan Shop > Home & Garden >...   \n",
       "147   Health & Personal Care > Health Care > First A...   \n",
       "155   Grocery & Gourmet Food > Fresh Flowers & Live ...   \n",
       "160                 Shoes > Men > Athletic > Basketball   \n",
       "...                                                 ...   \n",
       "8353  Tools & Home Improvement > Kitchen & Bath Fixt...   \n",
       "8362  Clothing & Accessories > Women > Tops & Tees >...   \n",
       "8365                  Jewelry > Novelty Jewelry > Rings   \n",
       "8366          Jewelry > Watches > Women > Wrist Watches   \n",
       "8367  Health & Personal Care > Makeup > Eyes > Eyeliner   \n",
       "8373  Home & Kitchen > Home Décor > Area Rugs & Pads...   \n",
       "8374  Clothing & Accessories > Women > Tops & Tees >...   \n",
       "8377  Clothing & Accessories > Women > Dresses > Casual   \n",
       "8387  Baby Products > Apparel & Accessories > Baby G...   \n",
       "8394  Clothing & Accessories > Women > Intimates > B...   \n",
       "8397                                      Media > Books   \n",
       "8399                              Shoes > Women > Flats   \n",
       "8401                Jewelry > Watches > Novelty Watches   \n",
       "8405          Jewelry > Watches > Women > Wrist Watches   \n",
       "8406                            Jewelry > Watches > Men   \n",
       "8410                   Shoes > Women > Fashion Sneakers   \n",
       "8417  Jewelry > Wedding & Engagement Rings > Wedding...   \n",
       "8418  Clothing & Accessories > Novelty & Special Use...   \n",
       "8419                Jewelry > Watches > Novelty Watches   \n",
       "8429  Clothing & Accessories > Novelty & Special Use...   \n",
       "8431                Jewelry > Watches > Novelty Watches   \n",
       "8437  Sports & Outdoors > Boating & Water Sports > B...   \n",
       "8439  Clothing & Accessories > Women > Intimates > B...   \n",
       "8443  Health & Personal Care > Makeup > Face > Bronz...   \n",
       "8445  Clothing & Accessories > Women > Intimates > B...   \n",
       "8448                            Shoes > Women > Sandals   \n",
       "8454  Health & Personal Care > Makeup > Face > Found...   \n",
       "8461  Tools & Home Improvement > Parts & Accessories...   \n",
       "8463  Clothing & Accessories > Women > Tops & Tees >...   \n",
       "8475        Home & Kitchen > Artwork > Posters & Prints   \n",
       "\n",
       "     categoryNamePath_status  \\\n",
       "0                    Correct   \n",
       "1                    Correct   \n",
       "2                    Correct   \n",
       "7                    Correct   \n",
       "10                   Correct   \n",
       "11                   Correct   \n",
       "12                   Correct   \n",
       "14                   Correct   \n",
       "33                   Correct   \n",
       "37                   Correct   \n",
       "46                   Correct   \n",
       "57                   Correct   \n",
       "58                   Correct   \n",
       "60                   Correct   \n",
       "63                   Correct   \n",
       "65                   Correct   \n",
       "77                   Correct   \n",
       "79                   Correct   \n",
       "90                   Correct   \n",
       "91                   Correct   \n",
       "95                   Correct   \n",
       "97                   Correct   \n",
       "108                  Correct   \n",
       "110                  Correct   \n",
       "140                  Correct   \n",
       "142                  Correct   \n",
       "143                  Correct   \n",
       "147                  Correct   \n",
       "155                  Correct   \n",
       "160                  Correct   \n",
       "...                      ...   \n",
       "8353                 Correct   \n",
       "8362                 Correct   \n",
       "8365                 Correct   \n",
       "8366                 Correct   \n",
       "8367                 Correct   \n",
       "8373                 Correct   \n",
       "8374                 Correct   \n",
       "8377                 Correct   \n",
       "8387                 Correct   \n",
       "8394                 Correct   \n",
       "8397                 Correct   \n",
       "8399                 Correct   \n",
       "8401                 Correct   \n",
       "8405                 Correct   \n",
       "8406                 Correct   \n",
       "8410                 Correct   \n",
       "8417                 Correct   \n",
       "8418                 Correct   \n",
       "8419                 Correct   \n",
       "8429                 Correct   \n",
       "8431                 Correct   \n",
       "8437                 Correct   \n",
       "8439                 Correct   \n",
       "8443                 Correct   \n",
       "8445                 Correct   \n",
       "8448                 Correct   \n",
       "8454                 Correct   \n",
       "8461                 Correct   \n",
       "8463                 Correct   \n",
       "8475                 Correct   \n",
       "\n",
       "                                            breadCrumbs breadCrumbs_status  \\\n",
       "0                                                   NaN         Notpresent   \n",
       "1                                                   NaN         Notpresent   \n",
       "2                                                   NaN         Notpresent   \n",
       "7                                                   NaN         Notpresent   \n",
       "10                                                  NaN         Notpresent   \n",
       "11                                                  NaN         Notpresent   \n",
       "12                                                  NaN         Notpresent   \n",
       "14                                                  NaN         Notpresent   \n",
       "33                                                  NaN         Notpresent   \n",
       "37                                                  NaN         Notpresent   \n",
       "46                                                  NaN         Notpresent   \n",
       "57                                                 Home          Incorrect   \n",
       "58                                                  NaN         Notpresent   \n",
       "60                                                  NaN             Missed   \n",
       "63                                                  NaN         Notpresent   \n",
       "65                                          Home > Shop          Incorrect   \n",
       "77                                                  NaN         Notpresent   \n",
       "79                                                  NaN         Notpresent   \n",
       "90                                                  NaN         Notpresent   \n",
       "91                                                  NaN         Notpresent   \n",
       "95                                                  NaN         Notpresent   \n",
       "97                                                  NaN         Notpresent   \n",
       "108                                                 NaN         Notpresent   \n",
       "110        Back To Search Results > Home > NFL + Sports          Incorrect   \n",
       "140                                                 NaN         Notpresent   \n",
       "142                  Home > tops > sweaters > pullovers          Incorrect   \n",
       "143   Back To Search Results > Home > NFL + Sports >...          Incorrect   \n",
       "147                                                 NaN         Notpresent   \n",
       "155                                                 NaN         Notpresent   \n",
       "160                                                 NaN         Notpresent   \n",
       "...                                                 ...                ...   \n",
       "8353                                                NaN             Missed   \n",
       "8362                                                NaN             Missed   \n",
       "8365                                                NaN         Notpresent   \n",
       "8366                                                NaN             Missed   \n",
       "8367                                                NaN         Notpresent   \n",
       "8373                                                NaN         Notpresent   \n",
       "8374                                                NaN         Notpresent   \n",
       "8377                                  Essentiel Antwerp          Incorrect   \n",
       "8387                                                NaN         Notpresent   \n",
       "8394                                  Top Secret > Sale          Incorrect   \n",
       "8397                                                NaN             Missed   \n",
       "8399  Home > Shoes > Featured Trends > Ballet Flats ...          Incorrect   \n",
       "8401                                                NaN             Missed   \n",
       "8405                                                NaN             Missed   \n",
       "8406                                                NaN             Missed   \n",
       "8410                                                NaN         Notpresent   \n",
       "8417                                                NaN         Notpresent   \n",
       "8418                                                NaN         Notpresent   \n",
       "8419                                                NaN             Missed   \n",
       "8429                                                NaN             Missed   \n",
       "8431                                                NaN             Missed   \n",
       "8437                                                NaN             Missed   \n",
       "8439                                                NaN         Notpresent   \n",
       "8443                                                NaN             Missed   \n",
       "8445                                                NaN         Notpresent   \n",
       "8448                    Women > Shoes > Sandals > Wedge          Incorrect   \n",
       "8454                                                NaN             Missed   \n",
       "8461  Home > Plumbing > Washing Machine Hose & Acces...          Incorrect   \n",
       "8463  Clothing > Tops > Night Out > THE GREAT. Cloth...          Incorrect   \n",
       "8475                                                NaN             Missed   \n",
       "\n",
       "                   topCategory  \n",
       "0       Clothing & Accessories  \n",
       "1         Patio, Lawn & Garden  \n",
       "2         Patio, Lawn & Garden  \n",
       "7     Tools & Home Improvement  \n",
       "10           Sports & Outdoors  \n",
       "11      Health & Personal Care  \n",
       "12    Tools & Home Improvement  \n",
       "14                Toys & Games  \n",
       "33             Office Products  \n",
       "37      Grocery & Gourmet Food  \n",
       "46      Grocery & Gourmet Food  \n",
       "57      Health & Personal Care  \n",
       "58        Patio, Lawn & Garden  \n",
       "60      Health & Personal Care  \n",
       "63             Office Products  \n",
       "65                 Electronics  \n",
       "77               Baby Products  \n",
       "79                       Shoes  \n",
       "90                       Shoes  \n",
       "91                       Shoes  \n",
       "95      Clothing & Accessories  \n",
       "97                       Media  \n",
       "108     Health & Personal Care  \n",
       "110          Sports & Outdoors  \n",
       "140             Home & Kitchen  \n",
       "142     Clothing & Accessories  \n",
       "143          Sports & Outdoors  \n",
       "147     Health & Personal Care  \n",
       "155     Grocery & Gourmet Food  \n",
       "160                      Shoes  \n",
       "...                        ...  \n",
       "8353  Tools & Home Improvement  \n",
       "8362    Clothing & Accessories  \n",
       "8365                   Jewelry  \n",
       "8366                   Jewelry  \n",
       "8367    Health & Personal Care  \n",
       "8373            Home & Kitchen  \n",
       "8374    Clothing & Accessories  \n",
       "8377    Clothing & Accessories  \n",
       "8387             Baby Products  \n",
       "8394    Clothing & Accessories  \n",
       "8397                     Media  \n",
       "8399                     Shoes  \n",
       "8401                   Jewelry  \n",
       "8405                   Jewelry  \n",
       "8406                   Jewelry  \n",
       "8410                     Shoes  \n",
       "8417                   Jewelry  \n",
       "8418    Clothing & Accessories  \n",
       "8419                   Jewelry  \n",
       "8429    Clothing & Accessories  \n",
       "8431                   Jewelry  \n",
       "8437         Sports & Outdoors  \n",
       "8439    Clothing & Accessories  \n",
       "8443    Health & Personal Care  \n",
       "8445    Clothing & Accessories  \n",
       "8448                     Shoes  \n",
       "8454    Health & Personal Care  \n",
       "8461  Tools & Home Improvement  \n",
       "8463    Clothing & Accessories  \n",
       "8475            Home & Kitchen  \n",
       "\n",
       "[1588 rows x 5 columns]"
      ]
     },
     "execution_count": 32,
     "metadata": {},
     "output_type": "execute_result"
    }
   ],
   "source": [
    "clfn_correct_breadcrumb_invalid_data"
   ]
  },
  {
   "cell_type": "code",
   "execution_count": 33,
   "metadata": {
    "collapsed": false
   },
   "outputs": [
    {
     "data": {
      "text/plain": [
       "Clothing & Accessories      483\n",
       "Shoes                       253\n",
       "Health & Personal Care      203\n",
       "Home & Kitchen              115\n",
       "Sports & Outdoors           111\n",
       "Jewelry                      80\n",
       "Tools & Home Improvement     56\n",
       "Electronics                  48\n",
       "Patio, Lawn & Garden         35\n",
       "Computers & Accessories      31\n",
       "Grocery & Gourmet Food       26\n",
       "Furniture                    23\n",
       "Media                        23\n",
       "Toys & Games                 17\n",
       "Baby Products                16\n",
       "Office Products              15\n",
       "Additional                   11\n",
       "Industrial & Scientific       9\n",
       "Arts, Crafts & Sewing         9\n",
       "Automotive                    8\n",
       "Pet Supplies                  6\n",
       "Video Games                   5\n",
       "Musical Instruments           3\n",
       "Software                      2\n",
       "Name: topCategory, dtype: int64"
      ]
     },
     "execution_count": 33,
     "metadata": {},
     "output_type": "execute_result"
    }
   ],
   "source": [
    "clfn_correct_breadcrumb_invalid_data['topCategory'].value_counts()"
   ]
  },
  {
   "cell_type": "code",
   "execution_count": null,
   "metadata": {
    "collapsed": true
   },
   "outputs": [],
   "source": []
  }
 ],
 "metadata": {
  "kernelspec": {
   "display_name": "Python 2",
   "language": "python",
   "name": "python2"
  },
  "language_info": {
   "codemirror_mode": {
    "name": "ipython",
    "version": 2
   },
   "file_extension": ".py",
   "mimetype": "text/x-python",
   "name": "python",
   "nbconvert_exporter": "python",
   "pygments_lexer": "ipython2",
   "version": "2.7.12"
  }
 },
 "nbformat": 4,
 "nbformat_minor": 0
}
