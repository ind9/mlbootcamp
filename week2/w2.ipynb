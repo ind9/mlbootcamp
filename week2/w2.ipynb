{
 "cells": [
  {
   "cell_type": "code",
   "execution_count": 50,
   "metadata": {
    "collapsed": false
   },
   "outputs": [
    {
     "data": {
      "text/plain": [
       "Index(['Unnamed: 0', 'id', 'job_id', 't_created', 't_info', 'tr_created',\n",
       "       'tr_info', 'start_time', 'finish_time', 'additionalAttributes',\n",
       "       'availability', 'brandName', 'brandText', 'breadCrumbs',\n",
       "       'categoryNamePath', 'currency', 'description', 'imageUrl', 'listPrice',\n",
       "       'mpns', 'productUrl', 'salePrice', 'seller', 'sku', 'storeId',\n",
       "       'storeName', 'title', 'upcs', 'url', 'variantAttributes', 'WrongURL',\n",
       "       'additionalAttributes_status', 'availability_status',\n",
       "       'brandName_status', 'brandText_status', 'breadCrumbs_status',\n",
       "       'categoryNamePath_status', 'comments', 'currency_status',\n",
       "       'description_status', 'imageUrl_status', 'listPrice_status',\n",
       "       'mpns_status', 'salePrice_status', 'sku_status', 'title_status',\n",
       "       'upcs_status', 'variantAttributes_status', 'variantCOLOR_status',\n",
       "       'variantColoe_status', 'variantColorCode_status', 'variantColor_status',\n",
       "       'variantConditionTypeText_status', 'variantCondition_status',\n",
       "       'variantDescription_status', 'variantEyeGliderShade_status',\n",
       "       'variantFinish_status', 'variantFit_status', 'variantGasType_status',\n",
       "       'variantInseam_status', 'variantLENGTH_status', 'variantLength_status',\n",
       "       'variantMakeModel_status', 'variantModel_status', 'variantNull_status',\n",
       "       'variantProductColor_status', 'variantQuantity_status',\n",
       "       'variantSIZE_status', 'variantShade_status', 'variantSizeType_status',\n",
       "       'variantSize_range_status', 'variantSize_status',\n",
       "       'variantSkinType_status', 'variantSku_status', 'variantStyle_status',\n",
       "       'variantType_status', 'variantVariant_name_status',\n",
       "       'variantVariant_status', 'variantVariants_status',\n",
       "       'variantWAIST_status', 'variantWIDTH_status', 'variantWaist_status',\n",
       "       'variantWeight_status', 'variantWhite_status', 'variantWidth_status'],\n",
       "      dtype='object')"
      ]
     },
     "execution_count": 50,
     "metadata": {},
     "output_type": "execute_result"
    }
   ],
   "source": [
    "import pandas as pd\n",
    "import numpy as np\n",
    "\n",
    "file = 'spot_check_data.csv'\n",
    "df = pd.read_csv(file, dtype=object)\n",
    "df.columns"
   ]
  },
  {
   "cell_type": "code",
   "execution_count": 45,
   "metadata": {
    "collapsed": false
   },
   "outputs": [
    {
     "name": "stdout",
     "output_type": "stream",
     "text": [
      "60640\n",
      "5      1120\n",
      "6      1110\n",
      "7      1088\n",
      "4      1048\n",
      "8       849\n",
      "9       656\n",
      "3       655\n",
      "10      460\n",
      "11      330\n",
      "2       314\n",
      "12      200\n",
      "13      140\n",
      "14       95\n",
      "1        94\n",
      "15       68\n",
      "17       45\n",
      "16       34\n",
      "19       32\n",
      "18       31\n",
      "21       12\n",
      "20       10\n",
      "22       10\n",
      "26        9\n",
      "27        9\n",
      "23        9\n",
      "28        5\n",
      "24        4\n",
      "73        4\n",
      "64        4\n",
      "29        4\n",
      "25        3\n",
      "34        3\n",
      "39        3\n",
      "45        3\n",
      "31        2\n",
      "60        2\n",
      "52        2\n",
      "186       2\n",
      "92        2\n",
      "30        2\n",
      "44        2\n",
      "42        2\n",
      "38        1\n",
      "33        1\n",
      "37        1\n",
      "47        1\n",
      "Name: num_words_in_title, dtype: int64\n",
      "22157\n",
      "1     3241\n",
      "4     1963\n",
      "3     1709\n",
      "2      781\n",
      "5      582\n",
      "6      118\n",
      "7       27\n",
      "8       20\n",
      "10      15\n",
      "9       13\n",
      "12       9\n",
      "11       3\n",
      "Name: num_words_in_breadCrumbs, dtype: int64\n"
     ]
    }
   ],
   "source": [
    "\n",
    "\n",
    "def map_to_length(values, sep):\n",
    "    if values == np.nan:\n",
    "        0\n",
    "    else:\n",
    "        return len(str(values).split(sep))\n",
    "\n",
    "\n",
    "for field, sep in [('title', ' '), ('breadCrumbs', ' > ')]: \n",
    "    nc = 'num_words_in_' + field\n",
    "    df[nc] = df[field].apply(lambda x: map_to_length(x, sep))\n",
    "    print(df[nc].sum())\n",
    "    word_frequency = df[nc].value_counts()\n",
    "    print(word_frequency)\n",
    "\n"
   ]
  },
  {
   "cell_type": "code",
   "execution_count": 59,
   "metadata": {
    "collapsed": false
   },
   "outputs": [
    {
     "name": "stdout",
     "output_type": "stream",
     "text": [
      "Correct      5021\n",
      "Incorrect    1595\n",
      "Missed          7\n",
      "Name: categoryNamePath_status, dtype: int64\n"
     ]
    },
    {
     "data": {
      "text/plain": [
       "0.24082741959836931"
      ]
     },
     "execution_count": 59,
     "metadata": {},
     "output_type": "execute_result"
    }
   ],
   "source": [
    "cat_status_series = df['categoryNamePath_status'].value_counts()\n",
    "print(cat_status_series)\n",
    "cat_status_series['Incorrect']/cat_status_series.sum()"
   ]
  },
  {
   "cell_type": "code",
   "execution_count": 73,
   "metadata": {
    "collapsed": false
   },
   "outputs": [
    {
     "data": {
      "text/plain": [
       "194"
      ]
     },
     "execution_count": 73,
     "metadata": {},
     "output_type": "execute_result"
    }
   ],
   "source": [
    "df['breadCrumbs_status'].value_counts()\n",
    "len(df[(df['categoryNamePath_status'] == 'Incorrect') & (df['breadCrumbs_status'] == 'Incorrect')])"
   ]
  },
  {
   "cell_type": "code",
   "execution_count": null,
   "metadata": {
    "collapsed": true
   },
   "outputs": [],
   "source": []
  }
 ],
 "metadata": {
  "anaconda-cloud": {},
  "kernelspec": {
   "display_name": "Python [conda env:aa]",
   "language": "python",
   "name": "conda-env-aa-py"
  },
  "language_info": {
   "codemirror_mode": {
    "name": "ipython",
    "version": 3
   },
   "file_extension": ".py",
   "mimetype": "text/x-python",
   "name": "python",
   "nbconvert_exporter": "python",
   "pygments_lexer": "ipython3",
   "version": "3.5.2"
  }
 },
 "nbformat": 4,
 "nbformat_minor": 1
}
