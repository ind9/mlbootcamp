{
 "cells": [
  {
   "cell_type": "code",
   "execution_count": 3,
   "metadata": {
    "collapsed": true
   },
   "outputs": [],
   "source": [
    "import pandas as pd\n",
    "import numpy as np\n",
    "import matplotlib\n",
    "import matplotlib.pyplot as plt"
   ]
  },
  {
   "cell_type": "code",
   "execution_count": 4,
   "metadata": {
    "collapsed": false
   },
   "outputs": [
    {
     "name": "stderr",
     "output_type": "stream",
     "text": [
      "/Users/Indix/anaconda2/lib/python2.7/site-packages/IPython/core/interactiveshell.py:2717: DtypeWarning: Columns (22,49,50,52,53,54,55,56,57,58,60,61,62,63,64,65,66,68,69,70,72,73,74,76,77,78,79,80,81,82,83,84) have mixed types. Specify dtype option on import or set low_memory=False.\n",
      "  interactivity=interactivity, compiler=compiler, result=result)\n"
     ]
    }
   ],
   "source": [
    "data = pd.read_csv(\"spot_check_data.csv.bz2\")"
   ]
  },
  {
   "cell_type": "code",
   "execution_count": 3,
   "metadata": {
    "collapsed": false
   },
   "outputs": [
    {
     "name": "stderr",
     "output_type": "stream",
     "text": [
      "/Users/Indix/anaconda2/lib/python2.7/site-packages/numpy/lib/function_base.py:3834: RuntimeWarning: Invalid value encountered in percentile\n",
      "  RuntimeWarning)\n"
     ]
    },
    {
     "data": {
      "text/html": [
       "<div>\n",
       "<table border=\"1\" class=\"dataframe\">\n",
       "  <thead>\n",
       "    <tr style=\"text-align: right;\">\n",
       "      <th></th>\n",
       "      <th>Unnamed: 0</th>\n",
       "      <th>id</th>\n",
       "      <th>job_id</th>\n",
       "      <th>listPrice</th>\n",
       "      <th>salePrice</th>\n",
       "      <th>storeId</th>\n",
       "    </tr>\n",
       "  </thead>\n",
       "  <tbody>\n",
       "    <tr>\n",
       "      <th>count</th>\n",
       "      <td>8481.00000</td>\n",
       "      <td>8481.000000</td>\n",
       "      <td>8481.000000</td>\n",
       "      <td>8.478000e+03</td>\n",
       "      <td>8.478000e+03</td>\n",
       "      <td>2665.000000</td>\n",
       "    </tr>\n",
       "    <tr>\n",
       "      <th>mean</th>\n",
       "      <td>4240.00000</td>\n",
       "      <td>149609.067327</td>\n",
       "      <td>80.571041</td>\n",
       "      <td>5.789409e+05</td>\n",
       "      <td>5.788876e+05</td>\n",
       "      <td>2677.027767</td>\n",
       "    </tr>\n",
       "    <tr>\n",
       "      <th>std</th>\n",
       "      <td>2448.39815</td>\n",
       "      <td>41567.668224</td>\n",
       "      <td>32.032754</td>\n",
       "      <td>2.331122e+07</td>\n",
       "      <td>2.331122e+07</td>\n",
       "      <td>1963.900629</td>\n",
       "    </tr>\n",
       "    <tr>\n",
       "      <th>min</th>\n",
       "      <td>0.00000</td>\n",
       "      <td>110004.000000</td>\n",
       "      <td>50.000000</td>\n",
       "      <td>-1.466684e+07</td>\n",
       "      <td>-1.466684e+07</td>\n",
       "      <td>0.000000</td>\n",
       "    </tr>\n",
       "    <tr>\n",
       "      <th>25%</th>\n",
       "      <td>2120.00000</td>\n",
       "      <td>113834.000000</td>\n",
       "      <td>53.000000</td>\n",
       "      <td>NaN</td>\n",
       "      <td>NaN</td>\n",
       "      <td>NaN</td>\n",
       "    </tr>\n",
       "    <tr>\n",
       "      <th>50%</th>\n",
       "      <td>4240.00000</td>\n",
       "      <td>115814.000000</td>\n",
       "      <td>57.000000</td>\n",
       "      <td>NaN</td>\n",
       "      <td>NaN</td>\n",
       "      <td>NaN</td>\n",
       "    </tr>\n",
       "    <tr>\n",
       "      <th>75%</th>\n",
       "      <td>6360.00000</td>\n",
       "      <td>200799.000000</td>\n",
       "      <td>120.000000</td>\n",
       "      <td>NaN</td>\n",
       "      <td>NaN</td>\n",
       "      <td>NaN</td>\n",
       "    </tr>\n",
       "    <tr>\n",
       "      <th>max</th>\n",
       "      <td>8480.00000</td>\n",
       "      <td>206123.000000</td>\n",
       "      <td>128.000000</td>\n",
       "      <td>9.599300e+08</td>\n",
       "      <td>9.599300e+08</td>\n",
       "      <td>5297.000000</td>\n",
       "    </tr>\n",
       "  </tbody>\n",
       "</table>\n",
       "</div>"
      ],
      "text/plain": [
       "       Unnamed: 0             id       job_id     listPrice     salePrice  \\\n",
       "count  8481.00000    8481.000000  8481.000000  8.478000e+03  8.478000e+03   \n",
       "mean   4240.00000  149609.067327    80.571041  5.789409e+05  5.788876e+05   \n",
       "std    2448.39815   41567.668224    32.032754  2.331122e+07  2.331122e+07   \n",
       "min       0.00000  110004.000000    50.000000 -1.466684e+07 -1.466684e+07   \n",
       "25%    2120.00000  113834.000000    53.000000           NaN           NaN   \n",
       "50%    4240.00000  115814.000000    57.000000           NaN           NaN   \n",
       "75%    6360.00000  200799.000000   120.000000           NaN           NaN   \n",
       "max    8480.00000  206123.000000   128.000000  9.599300e+08  9.599300e+08   \n",
       "\n",
       "           storeId  \n",
       "count  2665.000000  \n",
       "mean   2677.027767  \n",
       "std    1963.900629  \n",
       "min       0.000000  \n",
       "25%            NaN  \n",
       "50%            NaN  \n",
       "75%            NaN  \n",
       "max    5297.000000  "
      ]
     },
     "execution_count": 3,
     "metadata": {},
     "output_type": "execute_result"
    }
   ],
   "source": [
    "data.describe()"
   ]
  },
  {
   "cell_type": "code",
   "execution_count": 4,
   "metadata": {
    "collapsed": false
   },
   "outputs": [
    {
     "data": {
      "text/plain": [
       "Index([u'Unnamed: 0', u'id', u'job_id', u't_created', u't_info', u'tr_created',\n",
       "       u'tr_info', u'start_time', u'finish_time', u'additionalAttributes',\n",
       "       u'availability', u'brandName', u'brandText', u'breadCrumbs',\n",
       "       u'categoryNamePath', u'currency', u'description', u'imageUrl',\n",
       "       u'listPrice', u'mpns', u'productUrl', u'salePrice', u'seller', u'sku',\n",
       "       u'storeId', u'storeName', u'title', u'upcs', u'url',\n",
       "       u'variantAttributes', u'WrongURL', u'additionalAttributes_status',\n",
       "       u'availability_status', u'brandName_status', u'brandText_status',\n",
       "       u'breadCrumbs_status', u'categoryNamePath_status', u'comments',\n",
       "       u'currency_status', u'description_status', u'imageUrl_status',\n",
       "       u'listPrice_status', u'mpns_status', u'salePrice_status', u'sku_status',\n",
       "       u'title_status', u'upcs_status', u'variantAttributes_status',\n",
       "       u'variantCOLOR_status', u'variantColoe_status',\n",
       "       u'variantColorCode_status', u'variantColor_status',\n",
       "       u'variantConditionTypeText_status', u'variantCondition_status',\n",
       "       u'variantDescription_status', u'variantEyeGliderShade_status',\n",
       "       u'variantFinish_status', u'variantFit_status', u'variantGasType_status',\n",
       "       u'variantInseam_status', u'variantLENGTH_status',\n",
       "       u'variantLength_status', u'variantMakeModel_status',\n",
       "       u'variantModel_status', u'variantNull_status',\n",
       "       u'variantProductColor_status', u'variantQuantity_status',\n",
       "       u'variantSIZE_status', u'variantShade_status',\n",
       "       u'variantSizeType_status', u'variantSize_range_status',\n",
       "       u'variantSize_status', u'variantSkinType_status', u'variantSku_status',\n",
       "       u'variantStyle_status', u'variantType_status',\n",
       "       u'variantVariant_name_status', u'variantVariant_status',\n",
       "       u'variantVariants_status', u'variantWAIST_status',\n",
       "       u'variantWIDTH_status', u'variantWaist_status', u'variantWeight_status',\n",
       "       u'variantWhite_status', u'variantWidth_status'],\n",
       "      dtype='object')"
      ]
     },
     "execution_count": 4,
     "metadata": {},
     "output_type": "execute_result"
    }
   ],
   "source": [
    "data.columns"
   ]
  },
  {
   "cell_type": "markdown",
   "metadata": {},
   "source": [
    "# How many words are present in each title?"
   ]
  },
  {
   "cell_type": "code",
   "execution_count": 5,
   "metadata": {
    "collapsed": true
   },
   "outputs": [],
   "source": [
    "titles = data['title']"
   ]
  },
  {
   "cell_type": "code",
   "execution_count": 6,
   "metadata": {
    "collapsed": false
   },
   "outputs": [
    {
     "data": {
      "text/plain": [
       "count                      8481\n",
       "unique                     5226\n",
       "top       Bowflex® Machine Mats\n",
       "freq                         42\n",
       "Name: title, dtype: object"
      ]
     },
     "execution_count": 6,
     "metadata": {},
     "output_type": "execute_result"
    }
   ],
   "source": [
    "titles.describe()"
   ]
  },
  {
   "cell_type": "code",
   "execution_count": 7,
   "metadata": {
    "collapsed": false
   },
   "outputs": [
    {
     "data": {
      "text/plain": [
       "0       Nike NFL Dri-Fit Fly XL 3.0 Shorts - Men's New...\n",
       "1                       Wind Resistant Automatic Umbrella\n",
       "2                       Wind Resistant Automatic Umbrella\n",
       "3       BELLAWOOD Hues 3/4\" x 3-1/4\" Williamsburg Oak ...\n",
       "4       Name Meaning Personalized Coffee Mug 11 oz.- R...\n",
       "5                      Pebble Grain Slim Wallet Pale Blue\n",
       "6                                     Toledo Chelsea Grey\n",
       "7                      5/8\" x 2\" x 6.5LFT Maple Threshold\n",
       "8                                        Eye Shadow Brush\n",
       "9                                           Gator Ride On\n",
       "10      Under Armour Heatgear Armour Compression S/S S...\n",
       "11                                 Talking Hand Exerciser\n",
       "12                                          Internal hose\n",
       "13                             Alexine Sweater Pure White\n",
       "14                                Get Well Bear & Balloon\n",
       "15                Portable Jump Starter and Phone Charger\n",
       "16      Total Recharge Moisturizer NON-STOP MOISTURIZE...\n",
       "17      Total Recharge Moisturizer NON-STOP MOISTURIZE...\n",
       "18                                  Nuts & Volts Magazine\n",
       "19                 La Classica Nuova Salad Plate 8 1/2 in\n",
       "20                 Wythe Weekender NAVY W/ ORG/GRN STRIPE\n",
       "21               OshKosh Originals Graphic Tee IvoryIvory\n",
       "22                                       Jazz 1st edition\n",
       "23      Fekkai Brilliant Glossing Shampoo and Conditio...\n",
       "24                                             Crema Nuda\n",
       "25             Samsonite Omni PC 28\" Spinner Radiant Pink\n",
       "26                                 The Cheesecake Factory\n",
       "27             Raypak Return Header - Cast Iron - 004964f\n",
       "28                      Stories about Stories 1st edition\n",
       "29                                        Club Hike Youth\n",
       "                              ...                        \n",
       "8451    E-4B USAF Airborne Command Post Aircraft 1/144...\n",
       "8452    Fender Kingman ASCE Dreadnought Cutaway Acoust...\n",
       "8453    LAPTOP LCD SCREEN FOR HP PAVILION DV2736US 14....\n",
       "8454         Lock-It Powder Foundation 0.31 oz, Medium 62\n",
       "8455              Oki 45396221 OEM Toner Cartridge yellow\n",
       "8456       RCA RCRN03BR 3-Device Universal Remote Control\n",
       "8457    1976 South Florida Basketball Media Guide bkbx...\n",
       "8458                    ZHIKUnisex ZKG Sneakers GRAY/CYAN\n",
       "8459              ThinkPad X1 Carbon Ultrabook™ (3rd Gen)\n",
       "8460              Shelly Boot - Wide Width Available Gray\n",
       "8461              Oatey® Washing Machine Drip Pan (34051)\n",
       "8462        Axis II Leather Piece Sectional Sofa brown, 4\n",
       "8463               THE GREAT. The Ruffle Tee Heather Grey\n",
       "8464                         Trans Globe Lighting 4504 VG\n",
       "8465             GUY HARVEYWomen's Fishing Shorts NATURAL\n",
       "8466                             Cinnamon Licorice Twists\n",
       "8467    Source Naturals GCA® Green Coffee Extract -- -...\n",
       "8468       Bogner Harlow Clean Boost Guitar Effects Pedal\n",
       "8469    The Hobbit: An Unexpected Journey Lonely Mount...\n",
       "8470                      BARBER Fun Size Crop Sweatshirt\n",
       "8471                 K&N Replacement Air Filter # DU-1210\n",
       "8472                                      Acme ACME-SHD78\n",
       "8473    Marshall Custom Tattoo JVM215C 50W Tube Guitar...\n",
       "8474    GUY HARVEYMen's Marlin Boat Long Sleeve T-Shir...\n",
       "8475    Northern Promotions Framed Art - On the Move b...\n",
       "8476                           Sale Acme Kastmaster Spoon\n",
       "8477    Nike Air Max MVP Elite 2 3/4 Metal Men's Baseb...\n",
       "8478    Nike Air Max MVP Elite 2 3/4 Metal Men's Baseb...\n",
       "8479                       Black Bart Costa Rican Plunger\n",
       "8480       Kuhl Mutiny River Shorts - Men's Lifeguard Red\n",
       "Name: title, dtype: object"
      ]
     },
     "execution_count": 7,
     "metadata": {},
     "output_type": "execute_result"
    }
   ],
   "source": [
    "titles.dropna()"
   ]
  },
  {
   "cell_type": "code",
   "execution_count": 8,
   "metadata": {
    "collapsed": false
   },
   "outputs": [
    {
     "data": {
      "text/plain": [
       "0       12\n",
       "1        4\n",
       "2        4\n",
       "3        8\n",
       "4        9\n",
       "5        6\n",
       "6        3\n",
       "7        7\n",
       "8        3\n",
       "9        3\n",
       "10      11\n",
       "11       3\n",
       "12       2\n",
       "13       4\n",
       "14       5\n",
       "15       6\n",
       "16       8\n",
       "17       8\n",
       "18       4\n",
       "19       8\n",
       "20       6\n",
       "21       5\n",
       "22       3\n",
       "23       7\n",
       "24       2\n",
       "25       7\n",
       "26       3\n",
       "27       8\n",
       "28       5\n",
       "29       3\n",
       "        ..\n",
       "8451     9\n",
       "8452     9\n",
       "8453    11\n",
       "8454     7\n",
       "8455     6\n",
       "8456     6\n",
       "8457     7\n",
       "8458     4\n",
       "8459     6\n",
       "8460     7\n",
       "8461     6\n",
       "8462     8\n",
       "8463     7\n",
       "8464     5\n",
       "8465     5\n",
       "8466     3\n",
       "8467    14\n",
       "8468     7\n",
       "8469    10\n",
       "8470     5\n",
       "8471     6\n",
       "8472     2\n",
       "8473    10\n",
       "8474     8\n",
       "8475    11\n",
       "8476     4\n",
       "8477    14\n",
       "8478    14\n",
       "8479     5\n",
       "8480     8\n",
       "Name: title, dtype: int64"
      ]
     },
     "execution_count": 8,
     "metadata": {},
     "output_type": "execute_result"
    }
   ],
   "source": [
    "# number of words in each title\n",
    "titles.apply(lambda titles : len(titles.split()))"
   ]
  },
  {
   "cell_type": "code",
   "execution_count": 9,
   "metadata": {
    "collapsed": false
   },
   "outputs": [
    {
     "data": {
      "text/plain": [
       "60412"
      ]
     },
     "execution_count": 9,
     "metadata": {},
     "output_type": "execute_result"
    }
   ],
   "source": [
    "# sum of all values in each row will give us total number of words in all the titles\n",
    "titles.apply(lambda titles : len(titles.split())).sum()"
   ]
  },
  {
   "cell_type": "code",
   "execution_count": 10,
   "metadata": {
    "collapsed": true
   },
   "outputs": [],
   "source": [
    "title_count = titles.apply(lambda titles : len(titles.split()))"
   ]
  },
  {
   "cell_type": "code",
   "execution_count": 11,
   "metadata": {
    "collapsed": false
   },
   "outputs": [
    {
     "data": {
      "text/plain": [
       "<matplotlib.axes._subplots.AxesSubplot at 0x11326fb90>"
      ]
     },
     "execution_count": 11,
     "metadata": {},
     "output_type": "execute_result"
    }
   ],
   "source": [
    "title_count.plot(kind='line', title =\"Distribution of Word Count\",figsize=(15,10),legend=True, fontsize=12)"
   ]
  },
  {
   "cell_type": "code",
   "execution_count": 12,
   "metadata": {
    "collapsed": false
   },
   "outputs": [
    {
     "data": {
      "image/png": "[encoded data removed]",
      "text/plain": [
       "<matplotlib.figure.Figure at 0x104712110>"
      ]
     },
     "metadata": {},
     "output_type": "display_data"
    }
   ],
   "source": [
    "plt.show()"
   ]
  },
  {
   "cell_type": "markdown",
   "metadata": {},
   "source": [
    "# How many words are present in breadcrumbs?"
   ]
  },
  {
   "cell_type": "code",
   "execution_count": 13,
   "metadata": {
    "collapsed": true
   },
   "outputs": [],
   "source": [
    "breadCrumbs = data['breadCrumbs']"
   ]
  },
  {
   "cell_type": "code",
   "execution_count": 14,
   "metadata": {
    "collapsed": false
   },
   "outputs": [
    {
     "data": {
      "text/plain": [
       "count     6422\n",
       "unique    2940\n",
       "top       Home\n",
       "freq       658\n",
       "Name: breadCrumbs, dtype: object"
      ]
     },
     "execution_count": 14,
     "metadata": {},
     "output_type": "execute_result"
    }
   ],
   "source": [
    "breadCrumbs.describe()"
   ]
  },
  {
   "cell_type": "code",
   "execution_count": 15,
   "metadata": {
    "collapsed": true
   },
   "outputs": [],
   "source": [
    "breadCrumbs = breadCrumbs.fillna('')"
   ]
  },
  {
   "cell_type": "code",
   "execution_count": 16,
   "metadata": {
    "collapsed": false
   },
   "outputs": [
    {
     "data": {
      "text/plain": [
       "0        0\n",
       "1        0\n",
       "2        0\n",
       "3        0\n",
       "4       13\n",
       "5        1\n",
       "6        6\n",
       "7        0\n",
       "8        4\n",
       "9        5\n",
       "10       0\n",
       "11       0\n",
       "12       0\n",
       "13       4\n",
       "14       0\n",
       "15       0\n",
       "16       3\n",
       "17       3\n",
       "18       6\n",
       "19       9\n",
       "20       1\n",
       "21       6\n",
       "22       7\n",
       "23       6\n",
       "24       6\n",
       "25       3\n",
       "26       0\n",
       "27       4\n",
       "28       8\n",
       "29      12\n",
       "        ..\n",
       "8451     6\n",
       "8452     8\n",
       "8453     7\n",
       "8454     0\n",
       "8455     5\n",
       "8456     0\n",
       "8457     8\n",
       "8458     7\n",
       "8459    18\n",
       "8460     5\n",
       "8461     8\n",
       "8462     0\n",
       "8463    10\n",
       "8464     6\n",
       "8465     9\n",
       "8466     8\n",
       "8467     5\n",
       "8468    12\n",
       "8469     8\n",
       "8470    17\n",
       "8471     8\n",
       "8472     1\n",
       "8473    14\n",
       "8474    11\n",
       "8475     0\n",
       "8476     0\n",
       "8477     0\n",
       "8478     0\n",
       "8479     0\n",
       "8480     6\n",
       "Name: breadCrumbs, dtype: int64"
      ]
     },
     "execution_count": 16,
     "metadata": {},
     "output_type": "execute_result"
    }
   ],
   "source": [
    "# Counting word frequency in each row of breadcrumbs by filtering `>`\n",
    "breadCrumbs.apply(lambda breadCrumbs : len([x for x in breadCrumbs.split() if x != '>']))"
   ]
  },
  {
   "cell_type": "code",
   "execution_count": 17,
   "metadata": {
    "collapsed": true
   },
   "outputs": [],
   "source": [
    "breadCrumb_count = breadCrumbs.apply(lambda breadCrumbs : len([x for x in breadCrumbs.split() if x != '>']))"
   ]
  },
  {
   "cell_type": "code",
   "execution_count": 18,
   "metadata": {
    "collapsed": false
   },
   "outputs": [
    {
     "data": {
      "text/plain": [
       "<matplotlib.axes._subplots.AxesSubplot at 0x113c46150>"
      ]
     },
     "execution_count": 18,
     "metadata": {},
     "output_type": "execute_result"
    }
   ],
   "source": [
    "breadCrumb_count.plot(kind='line', title =\"Distribution of breadcrumb Word Count\",figsize=(15,10),legend=True, fontsize=12)"
   ]
  },
  {
   "cell_type": "code",
   "execution_count": 19,
   "metadata": {
    "collapsed": false
   },
   "outputs": [
    {
     "data": {
      "image/png": "[encoded data removed]",
      "text/plain": [
       "<matplotlib.figure.Figure at 0x114045b50>"
      ]
     },
     "metadata": {},
     "output_type": "display_data"
    }
   ],
   "source": [
    "plt.show()"
   ]
  },
  {
   "cell_type": "code",
   "execution_count": 20,
   "metadata": {
    "collapsed": false
   },
   "outputs": [
    {
     "data": {
      "text/plain": [
       "36102"
      ]
     },
     "execution_count": 20,
     "metadata": {},
     "output_type": "execute_result"
    }
   ],
   "source": [
    "breadCrumb_count.sum()"
   ]
  },
  {
   "cell_type": "markdown",
   "metadata": {},
   "source": [
    "# How many products did we misclassify ?"
   ]
  },
  {
   "cell_type": "code",
   "execution_count": 21,
   "metadata": {
    "collapsed": true
   },
   "outputs": [],
   "source": [
    "misclassify = data['categoryNamePath_status']"
   ]
  },
  {
   "cell_type": "code",
   "execution_count": 22,
   "metadata": {
    "collapsed": false
   },
   "outputs": [
    {
     "data": {
      "text/plain": [
       "1595"
      ]
     },
     "execution_count": 22,
     "metadata": {},
     "output_type": "execute_result"
    }
   ],
   "source": [
    "misclassify.dropna().value_counts()['Incorrect']"
   ]
  },
  {
   "cell_type": "markdown",
   "metadata": {},
   "source": [
    "# What is probability of misclassifying a sample?"
   ]
  },
  {
   "cell_type": "code",
   "execution_count": 23,
   "metadata": {
    "collapsed": false
   },
   "outputs": [
    {
     "data": {
      "text/plain": [
       "0.24108222490931075"
      ]
     },
     "execution_count": 23,
     "metadata": {},
     "output_type": "execute_result"
    }
   ],
   "source": [
    "# Have to multiply by 1.0 to convert into decimal format\n",
    "(misclassify.dropna().value_counts()['Incorrect']*1.0) / (misclassify.dropna().value_counts()['Incorrect'] + misclassify.dropna().value_counts()['Correct'])"
   ]
  },
  {
   "cell_type": "markdown",
   "metadata": {},
   "source": [
    "# How many samples are misclassified when the breadcrumbs are invalid?"
   ]
  },
  {
   "cell_type": "code",
   "execution_count": 24,
   "metadata": {
    "collapsed": false
   },
   "outputs": [
    {
     "data": {
      "text/plain": [
       "694"
      ]
     },
     "execution_count": 24,
     "metadata": {},
     "output_type": "execute_result"
    }
   ],
   "source": [
    "data[(data.categoryNamePath_status == 'Incorrect') & (data.breadCrumbs_status != 'Correct')]['breadCrumbs_status'].count()"
   ]
  },
  {
   "cell_type": "markdown",
   "metadata": {},
   "source": [
    "# What is the probability that breadcrumbs are invalid?"
   ]
  },
  {
   "cell_type": "code",
   "execution_count": 25,
   "metadata": {
    "collapsed": true
   },
   "outputs": [],
   "source": [
    "valid_breadCrumbs = data['breadCrumbs_status'].value_counts()['Correct']"
   ]
  },
  {
   "cell_type": "code",
   "execution_count": 26,
   "metadata": {
    "collapsed": true
   },
   "outputs": [],
   "source": [
    "total_breadCrumbs = data['breadCrumbs_status'].value_counts().sum()"
   ]
  },
  {
   "cell_type": "code",
   "execution_count": 27,
   "metadata": {
    "collapsed": false
   },
   "outputs": [
    {
     "data": {
      "text/plain": [
       "0.3447078363279481"
      ]
     },
     "execution_count": 27,
     "metadata": {},
     "output_type": "execute_result"
    }
   ],
   "source": [
    "1 - ((valid_breadCrumbs)*1.0)/total_breadCrumbs"
   ]
  },
  {
   "cell_type": "markdown",
   "metadata": {},
   "source": [
    "# What is the probability of correct category given that breadcrumb is invalid?"
   ]
  },
  {
   "cell_type": "code",
   "execution_count": 28,
   "metadata": {
    "collapsed": false
   },
   "outputs": [
    {
     "data": {
      "text/plain": [
       "1588"
      ]
     },
     "execution_count": 28,
     "metadata": {},
     "output_type": "execute_result"
    }
   ],
   "source": [
    "correct_categoryPath_count = len(data[(data.categoryNamePath_status == 'Correct') & (data.breadCrumbs_status != 'Correct')]['categoryNamePath'])\n",
    "correct_categoryPath_count"
   ]
  },
  {
   "cell_type": "code",
   "execution_count": 29,
   "metadata": {
    "collapsed": false
   },
   "outputs": [
    {
     "data": {
      "text/plain": [
       "2283"
      ]
     },
     "execution_count": 29,
     "metadata": {},
     "output_type": "execute_result"
    }
   ],
   "source": [
    "invalid_breadCrumbs_count = data[(data.breadCrumbs_status != 'Correct')]['breadCrumbs_status'].count()\n",
    "invalid_breadCrumbs_count"
   ]
  },
  {
   "cell_type": "code",
   "execution_count": 30,
   "metadata": {
    "collapsed": false
   },
   "outputs": [
    {
     "data": {
      "text/plain": [
       "0.6955759964958388"
      ]
     },
     "execution_count": 30,
     "metadata": {},
     "output_type": "execute_result"
    }
   ],
   "source": [
    "(correct_categoryPath_count * 1.0)/invalid_breadCrumbs_count"
   ]
  },
  {
   "cell_type": "markdown",
   "metadata": {},
   "source": [
    "# Which toplevel category contains most invalid breadcrumbs?"
   ]
  },
  {
   "cell_type": "code",
   "execution_count": 5,
   "metadata": {
    "collapsed": false
   },
   "outputs": [],
   "source": [
    "categoryNamePath_with_invalid_breadCrumbs = data[(data.categoryNamePath_status == 'Correct') & (data.breadCrumbs_status != 'Correct')]['categoryNamePath']"
   ]
  },
  {
   "cell_type": "code",
   "execution_count": 6,
   "metadata": {
    "collapsed": false
   },
   "outputs": [],
   "source": [
    "categories_distribution = map(lambda y: y.split(\">\")[0], categoryNamePath_with_invalid_breadCrumbs)"
   ]
  },
  {
   "cell_type": "code",
   "execution_count": 8,
   "metadata": {
    "collapsed": true
   },
   "outputs": [],
   "source": [
    "df_categories_distribution = pd.DataFrame(categories_distribution)"
   ]
  },
  {
   "cell_type": "code",
   "execution_count": 9,
   "metadata": {
    "collapsed": false
   },
   "outputs": [
    {
     "data": {
      "text/plain": [
       "Clothing & Accessories       483\n",
       "Shoes                        253\n",
       "Health & Personal Care       203\n",
       "Home & Kitchen               115\n",
       "Sports & Outdoors            111\n",
       "Jewelry                       80\n",
       "Tools & Home Improvement      56\n",
       "Electronics                   48\n",
       "Patio, Lawn & Garden          35\n",
       "Computers & Accessories       31\n",
       "Grocery & Gourmet Food        26\n",
       "Furniture                     23\n",
       "Media                         23\n",
       "Toys & Games                  17\n",
       "Baby Products                 16\n",
       "Office Products               15\n",
       "Additional                    11\n",
       "Arts, Crafts & Sewing          9\n",
       "Industrial & Scientific        9\n",
       "Automotive                     8\n",
       "Pet Supplies                   6\n",
       "Video Games                    5\n",
       "Musical Instruments            3\n",
       "Software                       2\n",
       "Name: 0, dtype: int64"
      ]
     },
     "execution_count": 9,
     "metadata": {},
     "output_type": "execute_result"
    }
   ],
   "source": [
    "df_categories_distribution[0].value_counts() \n",
    "#Since values are arranged in descending order, hence the toplevel category with most invalid breadcrumbs is Clothing and Accessories"
   ]
  },
  {
   "cell_type": "code",
   "execution_count": null,
   "metadata": {
    "collapsed": true
   },
   "outputs": [],
   "source": []
  }
 ],
 "metadata": {
  "anaconda-cloud": {},
  "kernelspec": {
   "display_name": "Python [conda root]",
   "language": "python",
   "name": "conda-root-py"
  },
  "language_info": {
   "codemirror_mode": {
    "name": "ipython",
    "version": 2
   },
   "file_extension": ".py",
   "mimetype": "text/x-python",
   "name": "python",
   "nbconvert_exporter": "python",
   "pygments_lexer": "ipython2",
   "version": "2.7.12"
  }
 },
 "nbformat": 4,
 "nbformat_minor": 1
}
