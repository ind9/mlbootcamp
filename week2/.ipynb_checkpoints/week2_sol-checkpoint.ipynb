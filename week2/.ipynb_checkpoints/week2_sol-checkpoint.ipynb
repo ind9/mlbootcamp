{
 "cells": [
  {
   "cell_type": "code",
   "execution_count": 2,
   "metadata": {
    "collapsed": false
   },
   "outputs": [],
   "source": [
    "%load_ext autoreload\n",
    "%autoreload 2\n",
    "%matplotlib inline\n",
    "from matplotlib import pyplot as plt\n",
    "import matplotlib\n",
    "plt.rcParams['figure.figsize'] = (10,5)\n",
    "import pandas as pd\n",
    "import numpy as np\n",
    "pd.set_option('display.max_colwidth',150)\n",
    "import sys,os\n",
    "import json\n",
    "import numpy as np"
   ]
  },
  {
   "cell_type": "code",
   "execution_count": 3,
   "metadata": {
    "collapsed": false
   },
   "outputs": [
    {
     "name": "stderr",
     "output_type": "stream",
     "text": [
      "/home/indix/anaconda2/lib/python2.7/site-packages/IPython/core/interactiveshell.py:2717: DtypeWarning: Columns (22,49,50,52,53,54,55,56,57,58,60,61,62,63,64,65,66,68,69,70,72,73,74,76,77,78,79,80,81,82,83,84) have mixed types. Specify dtype option on import or set low_memory=False.\n",
      "  interactivity=interactivity, compiler=compiler, result=result)\n"
     ]
    }
   ],
   "source": [
    "df = pd.read_csv('/home/indix/Downloads/spot_check_data.csv')"
   ]
  },
  {
   "cell_type": "code",
   "execution_count": 27,
   "metadata": {
    "collapsed": true
   },
   "outputs": [],
   "source": [
    "rows = df.shape[0]"
   ]
  },
  {
   "cell_type": "code",
   "execution_count": 24,
   "metadata": {
    "collapsed": false
   },
   "outputs": [],
   "source": [
    "misclassified_category = df[df['categoryNamePath_status'] == 'Incorrect'].shape[0]\n",
    "all_classified_category = len(filter(lambda x: x in ['Correct', 'Incorrect'], df['categoryNamePath_status']))\n",
    "df_invalid_breadCrumbs = df.dropna(subset=['breadCrumbs'])\n",
    "df_invalid_breadCrumbs_top_category = map(lambda x: x.split(' > ')[0], df_invalid_breadCrumbs['categoryNamePath'])"
   ]
  },
  {
   "cell_type": "code",
   "execution_count": 25,
   "metadata": {
    "collapsed": false
   },
   "outputs": [],
   "source": [
    "def split_into_tokens(x):\n",
    "    if (x == np.nan): return 0\n",
    "    else: return len(str(x).split(separator))"
   ]
  },
  {
   "cell_type": "code",
   "execution_count": 26,
   "metadata": {
    "collapsed": false
   },
   "outputs": [
    {
     "name": "stdout",
     "output_type": "stream",
     "text": [
      "title has 60640 words in total\n",
      "5      1120\n",
      "6      1110\n",
      "7      1088\n",
      "4      1048\n",
      "8       849\n",
      "9       656\n",
      "3       655\n",
      "10      460\n",
      "11      330\n",
      "2       314\n",
      "12      200\n",
      "13      140\n",
      "14       95\n",
      "1        94\n",
      "15       68\n",
      "17       45\n",
      "16       34\n",
      "19       32\n",
      "18       31\n",
      "21       12\n",
      "20       10\n",
      "22       10\n",
      "26        9\n",
      "27        9\n",
      "23        9\n",
      "28        5\n",
      "24        4\n",
      "73        4\n",
      "64        4\n",
      "29        4\n",
      "25        3\n",
      "34        3\n",
      "39        3\n",
      "45        3\n",
      "31        2\n",
      "60        2\n",
      "52        2\n",
      "186       2\n",
      "92        2\n",
      "30        2\n",
      "44        2\n",
      "42        2\n",
      "38        1\n",
      "33        1\n",
      "37        1\n",
      "47        1\n",
      "dtype: int64\n",
      "breadCrumbs has 22157 words in total\n",
      "1     3241\n",
      "4     1963\n",
      "3     1709\n",
      "2      781\n",
      "5      582\n",
      "6      118\n",
      "7       27\n",
      "8       20\n",
      "10      15\n",
      "9       13\n",
      "12       9\n",
      "11       3\n",
      "dtype: int64\n"
     ]
    }
   ],
   "source": [
    "for tag, separator in [('title', ' '), ('breadCrumbs', ' > ')]:\n",
    "    tags = df[tag]\n",
    "    tag_words = (map(split_into_tokens, tags))\n",
    "    total_words_in_tag = sum(tag_words)\n",
    "    print('%s has %d words in total' % (tag, total_words_in_tag))\n",
    "    print(pd.Series(tag_words).value_counts())"
   ]
  },
  {
   "cell_type": "code",
   "execution_count": 28,
   "metadata": {
    "collapsed": false,
    "scrolled": true
   },
   "outputs": [
    {
     "name": "stdout",
     "output_type": "stream",
     "text": [
      "('Misclassified samples', 1595)\n",
      "('Probability of misclassifying a sample', 0.24108222490931075)\n",
      "('Samples misclassified when the breadcrumbs are invalid', 1097)\n",
      "('Probability that breadcrumbs are invalid', 0.757222025704516)\n",
      "('Probability of correct category given the breadcrumb is invalid', 3981)\n"
     ]
    },
    {
     "name": "stderr",
     "output_type": "stream",
     "text": [
      "/home/indix/anaconda2/lib/python2.7/site-packages/ipykernel/__main__.py:3: UserWarning: Boolean Series key will be reindexed to match DataFrame index.\n",
      "  app.launch_new_instance()\n",
      "/home/indix/anaconda2/lib/python2.7/site-packages/ipykernel/__main__.py:5: UserWarning: Boolean Series key will be reindexed to match DataFrame index.\n"
     ]
    },
    {
     "ename": "AttributeError",
     "evalue": "'list' object has no attribute 'value_counts'",
     "output_type": "error",
     "traceback": [
      "\u001b[0;31m---------------------------------------------------------------------------\u001b[0m",
      "\u001b[0;31mAttributeError\u001b[0m                            Traceback (most recent call last)",
      "\u001b[0;32m<ipython-input-28-b35b9c4a00d0>\u001b[0m in \u001b[0;36m<module>\u001b[0;34m()\u001b[0m\n\u001b[1;32m      4\u001b[0m \u001b[0;32mprint\u001b[0m\u001b[0;34m(\u001b[0m\u001b[0;34m'Probability that breadcrumbs are invalid'\u001b[0m\u001b[0;34m,\u001b[0m \u001b[0mfloat\u001b[0m\u001b[0;34m(\u001b[0m\u001b[0mlen\u001b[0m\u001b[0;34m(\u001b[0m\u001b[0mdf_invalid_breadCrumbs\u001b[0m\u001b[0;34m)\u001b[0m\u001b[0;34m)\u001b[0m \u001b[0;34m/\u001b[0m \u001b[0mrows\u001b[0m\u001b[0;34m)\u001b[0m\u001b[0;34m\u001b[0m\u001b[0m\n\u001b[1;32m      5\u001b[0m \u001b[0;32mprint\u001b[0m\u001b[0;34m(\u001b[0m\u001b[0;34m'Probability of correct category given the breadcrumb is invalid'\u001b[0m\u001b[0;34m,\u001b[0m \u001b[0mlen\u001b[0m\u001b[0;34m(\u001b[0m\u001b[0mdf_invalid_breadCrumbs\u001b[0m\u001b[0;34m[\u001b[0m\u001b[0mdf\u001b[0m\u001b[0;34m[\u001b[0m\u001b[0;34m'categoryNamePath_status'\u001b[0m\u001b[0;34m]\u001b[0m \u001b[0;34m==\u001b[0m \u001b[0;34m'Correct'\u001b[0m\u001b[0;34m]\u001b[0m\u001b[0;34m)\u001b[0m\u001b[0;34m)\u001b[0m\u001b[0;34m\u001b[0m\u001b[0m\n\u001b[0;32m----> 6\u001b[0;31m \u001b[0;32mprint\u001b[0m\u001b[0;34m(\u001b[0m\u001b[0;34m'Toplevel category that contains most invalid breadcrumbs'\u001b[0m\u001b[0;34m,\u001b[0m \u001b[0mdf_invalid_breadCrumbs_top_category\u001b[0m\u001b[0;34m.\u001b[0m\u001b[0mvalue_counts\u001b[0m\u001b[0;34m(\u001b[0m\u001b[0;34m)\u001b[0m\u001b[0;34m.\u001b[0m\u001b[0mhead\u001b[0m\u001b[0;34m(\u001b[0m\u001b[0;36m1\u001b[0m\u001b[0;34m)\u001b[0m\u001b[0;34m)\u001b[0m\u001b[0;34m\u001b[0m\u001b[0m\n\u001b[0m",
      "\u001b[0;31mAttributeError\u001b[0m: 'list' object has no attribute 'value_counts'"
     ]
    }
   ],
   "source": [
    "print('Misclassified samples', misclassified_category)\n",
    "print('Probability of misclassifying a sample', float(misclassified_category) / all_classified_category)\n",
    "print('Samples misclassified when the breadcrumbs are invalid', len(df_invalid_breadCrumbs[df['categoryNamePath_status'] == 'Incorrect']))\n",
    "print('Probability that breadcrumbs are invalid', float(len(df_invalid_breadCrumbs)) / rows)\n",
    "print('Probability of correct category given the breadcrumb is invalid', len(df_invalid_breadCrumbs[df['categoryNamePath_status'] == 'Correct']))\n",
    "print('Toplevel category that contains most invalid breadcrumbs', df_invalid_breadCrumbs_top_category.value_counts().head(1))"
   ]
  },
  {
   "cell_type": "code",
   "execution_count": null,
   "metadata": {
    "collapsed": true
   },
   "outputs": [],
   "source": []
  }
 ],
 "metadata": {
  "anaconda-cloud": {},
  "kernelspec": {
   "display_name": "Python [conda root]",
   "language": "python",
   "name": "conda-root-py"
  },
  "language_info": {
   "codemirror_mode": {
    "name": "ipython",
    "version": 2
   },
   "file_extension": ".py",
   "mimetype": "text/x-python",
   "name": "python",
   "nbconvert_exporter": "python",
   "pygments_lexer": "ipython2",
   "version": "2.7.12"
  }
 },
 "nbformat": 4,
 "nbformat_minor": 1
}
