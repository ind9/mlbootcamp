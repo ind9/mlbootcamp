{
 "cells": [
  {
   "cell_type": "code",
   "execution_count": 1,
   "metadata": {
    "collapsed": true
   },
   "outputs": [],
   "source": [
    "%load_ext autoreload\n",
    "%autoreload 2\n",
    "%matplotlib inline\n",
    "from matplotlib import pyplot as plt\n",
    "import matplotlib\n",
    "plt.rcParams['figure.figsize'] = (10,5)\n",
    "import pandas as pd\n",
    "import numpy as np\n",
    "pd.set_option('display.max_colwidth',150)\n",
    "import sys,os\n",
    "import json\n",
    "import numpy as np"
   ]
  },
  {
   "cell_type": "code",
   "execution_count": 3,
   "metadata": {
    "collapsed": false
   },
   "outputs": [],
   "source": [
    "data = pd.read_csv('spot_check_data.csv.bz2')"
   ]
  },
  {
   "cell_type": "code",
   "execution_count": 4,
   "metadata": {
    "collapsed": false
   },
   "outputs": [
    {
     "data": {
      "text/plain": [
       "5      1120\n",
       "6      1110\n",
       "7      1088\n",
       "4      1048\n",
       "8       849\n",
       "9       656\n",
       "3       655\n",
       "10      460\n",
       "11      330\n",
       "2       314\n",
       "12      200\n",
       "13      140\n",
       "14       95\n",
       "1        94\n",
       "15       68\n",
       "17       45\n",
       "16       34\n",
       "19       32\n",
       "18       31\n",
       "21       12\n",
       "20       10\n",
       "22       10\n",
       "26        9\n",
       "27        9\n",
       "23        9\n",
       "28        5\n",
       "24        4\n",
       "73        4\n",
       "64        4\n",
       "29        4\n",
       "25        3\n",
       "34        3\n",
       "39        3\n",
       "45        3\n",
       "31        2\n",
       "60        2\n",
       "52        2\n",
       "186       2\n",
       "92        2\n",
       "30        2\n",
       "44        2\n",
       "42        2\n",
       "38        1\n",
       "33        1\n",
       "37        1\n",
       "47        1\n",
       "dtype: int64"
      ]
     },
     "execution_count": 4,
     "metadata": {},
     "output_type": "execute_result"
    }
   ],
   "source": [
    "#1. How many words are present in title? Analyse the distribution of no of words in title\n",
    "pd.Series(map(lambda x: np.array(str(x).split(' ')).size ,data.title)).value_counts()"
   ]
  },
  {
   "cell_type": "code",
   "execution_count": 5,
   "metadata": {
    "collapsed": false
   },
   "outputs": [
    {
     "data": {
      "text/plain": [
       "<matplotlib.axes._subplots.AxesSubplot at 0x7f67a46a2c10>"
      ]
     },
     "execution_count": 5,
     "metadata": {},
     "output_type": "execute_result"
    },
    {
     "data": {
      "image/png": "[encoded data removed]",
      "text/plain": [
       "<matplotlib.figure.Figure at 0x7f67a46a29d0>"
      ]
     },
     "metadata": {},
     "output_type": "display_data"
    }
   ],
   "source": [
    "#1. Visualization\n",
    "pd.Series(map(lambda x: np.array(str(x).split(' ')).size ,data.title)).plot(kind=\"box\")"
   ]
  },
  {
   "cell_type": "code",
   "execution_count": 6,
   "metadata": {
    "collapsed": false
   },
   "outputs": [
    {
     "data": {
      "text/plain": [
       "<matplotlib.axes._subplots.AxesSubplot at 0x7f6778829f50>"
      ]
     },
     "execution_count": 6,
     "metadata": {},
     "output_type": "execute_result"
    },
    {
     "data": {
      "image/png": "[encoded data removed]",
      "text/plain": [
       "<matplotlib.figure.Figure at 0x7f6778857f90>"
      ]
     },
     "metadata": {},
     "output_type": "display_data"
    }
   ],
   "source": [
    "#2. How many words are present in breadcrumbs? Analyse the distribution of no of words in breadcrumbs\n",
    "import re\n",
    "unique_breadcrumbs = set(filter(lambda x: type(x) is str, data.breadCrumbs))\n",
    "pd.Series(map(lambda x: len(re.findall(r\"[\\w']+\", x)), unique_breadcrumbs)).plot(kind=\"kde\")"
   ]
  },
  {
   "cell_type": "code",
   "execution_count": 10,
   "metadata": {
    "collapsed": false
   },
   "outputs": [
    {
     "data": {
      "text/plain": [
       "1595"
      ]
     },
     "execution_count": 10,
     "metadata": {},
     "output_type": "execute_result"
    }
   ],
   "source": [
    "#3. How many samples did we misclassify in total?\n",
    "misclassified_count = (data.categoryNamePath_status == \"Incorrect\").tolist().count(True)\n",
    "misclassified_count"
   ]
  },
  {
   "cell_type": "code",
   "execution_count": 11,
   "metadata": {
    "collapsed": false
   },
   "outputs": [
    {
     "data": {
      "text/plain": [
       "0.2408274195983693"
      ]
     },
     "execution_count": 11,
     "metadata": {},
     "output_type": "execute_result"
    }
   ],
   "source": [
    "#4. What is probability of misclassifying a sample?\n",
    "float((misclassified_count))/(data.categoryNamePath_status.count())"
   ]
  },
  {
   "cell_type": "code",
   "execution_count": 12,
   "metadata": {
    "collapsed": false
   },
   "outputs": [
    {
     "data": {
      "text/plain": [
       "694"
      ]
     },
     "execution_count": 12,
     "metadata": {},
     "output_type": "execute_result"
    }
   ],
   "source": [
    "#5. How many samples are misclassified when the breadcrumbs are invalid\n",
    "data[(data.categoryNamePath_status == \"Incorrect\") & (data.breadCrumbs_status != \"Correct\")]['categoryNamePath_status'].count()"
   ]
  },
  {
   "cell_type": "code",
   "execution_count": 13,
   "metadata": {
    "collapsed": false
   },
   "outputs": [
    {
     "data": {
      "text/plain": [
       "0.34470783632794805"
      ]
     },
     "execution_count": 13,
     "metadata": {},
     "output_type": "execute_result"
    }
   ],
   "source": [
    "#6. What is the probability that breadcrumbs are invalid    \n",
    "invalid_breadcrumbs = data[(data.breadCrumbs_status != \"Correct\")]['breadCrumbs_status'].count() #2283\n",
    "float(invalid_breadcrumbs) / data.breadCrumbs_status.count()"
   ]
  },
  {
   "cell_type": "code",
   "execution_count": 14,
   "metadata": {
    "collapsed": false
   },
   "outputs": [
    {
     "data": {
      "text/plain": [
       "0.6955759964958388"
      ]
     },
     "execution_count": 14,
     "metadata": {},
     "output_type": "execute_result"
    }
   ],
   "source": [
    "#7. What is the probability of correct category given the breadcrumb is invalid\n",
    "correct_category = data[(data.categoryNamePath_status == \"Correct\") & (data.breadCrumbs_status != \"Correct\")]['categoryNamePath_status'].count()\n",
    "float(correct_category)/invalid_breadcrumbs"
   ]
  },
  {
   "cell_type": "code",
   "execution_count": 22,
   "metadata": {
    "collapsed": false
   },
   "outputs": [],
   "source": [
    "#8. Which toplevel category contains most invalid breadcrumbs\n",
    "#Yet to complete\n",
    "top_level_categories = map(lambda x: x.split(\">\")[0], data.categoryNamePath)"
   ]
  },
  {
   "cell_type": "code",
   "execution_count": 15,
   "metadata": {
    "collapsed": false
   },
   "outputs": [
    {
     "data": {
      "text/plain": [
       "Correct       4340\n",
       "Notpresent    1245\n",
       "Incorrect      747\n",
       "Missed         291\n",
       "Name: breadCrumbs_status, dtype: int64"
      ]
     },
     "execution_count": 15,
     "metadata": {},
     "output_type": "execute_result"
    }
   ],
   "source": [
    "data.breadCrumbs_status.value_counts()"
   ]
  },
  {
   "cell_type": "code",
   "execution_count": null,
   "metadata": {
    "collapsed": true
   },
   "outputs": [],
   "source": []
  }
 ],
 "metadata": {
  "anaconda-cloud": {},
  "kernelspec": {
   "display_name": "Python [conda root]",
   "language": "python",
   "name": "conda-root-py"
  },
  "language_info": {
   "codemirror_mode": {
    "name": "ipython",
    "version": 2
   },
   "file_extension": ".py",
   "mimetype": "text/x-python",
   "name": "python",
   "nbconvert_exporter": "python",
   "pygments_lexer": "ipython2",
   "version": "2.7.12"
  }
 },
 "nbformat": 4,
 "nbformat_minor": 1
}
